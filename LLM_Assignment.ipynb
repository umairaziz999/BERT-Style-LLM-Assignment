{
  "metadata": {
    "kernelspec": {
      "display_name": "Python 3",
      "name": "python3"
    },
    "language_info": {
      "codemirror_mode": {
        "name": "ipython",
        "version": 3
      },
      "file_extension": ".py",
      "mimetype": "text/x-python",
      "name": "python",
      "nbconvert_exporter": "python",
      "pygments_lexer": "ipython3",
      "version": "3.10.12"
    },
    "papermill": {
      "default_parameters": {},
      "duration": 99.029433,
      "end_time": "2023-07-22T16:19:09.329969",
      "environment_variables": {},
      "exception": true,
      "input_path": "__notebook__.ipynb",
      "output_path": "__notebook__.ipynb",
      "parameters": {},
      "start_time": "2023-07-22T16:17:30.300536",
      "version": "2.4.0"
    },
    "widgets": {
      "application/vnd.jupyter.widget-state+json": {
        "dd6d6550b09e4ddab4a7de2ae7154987": {
          "model_module": "@jupyter-widgets/controls",
          "model_name": "HBoxModel",
          "model_module_version": "1.5.0",
          "state": {
            "_dom_classes": [],
            "_model_module": "@jupyter-widgets/controls",
            "_model_module_version": "1.5.0",
            "_model_name": "HBoxModel",
            "_view_count": null,
            "_view_module": "@jupyter-widgets/controls",
            "_view_module_version": "1.5.0",
            "_view_name": "HBoxView",
            "box_style": "",
            "children": [
              "IPY_MODEL_37b7c843d8804445a58863c4ee06d68e",
              "IPY_MODEL_1d747978276f481c998d029be097d19a",
              "IPY_MODEL_a6ee08169e634cb0bdfdd6a2166784c9"
            ],
            "layout": "IPY_MODEL_76557c6eec714cb0b8645189ac5bf56e"
          }
        },
        "37b7c843d8804445a58863c4ee06d68e": {
          "model_module": "@jupyter-widgets/controls",
          "model_name": "HTMLModel",
          "model_module_version": "1.5.0",
          "state": {
            "_dom_classes": [],
            "_model_module": "@jupyter-widgets/controls",
            "_model_module_version": "1.5.0",
            "_model_name": "HTMLModel",
            "_view_count": null,
            "_view_module": "@jupyter-widgets/controls",
            "_view_module_version": "1.5.0",
            "_view_name": "HTMLView",
            "description": "",
            "description_tooltip": null,
            "layout": "IPY_MODEL_86ddb60ecd1d43c494dfebeebce69eb5",
            "placeholder": "​",
            "style": "IPY_MODEL_0d6451dc813849f3899de768948c176c",
            "value": "Map: 100%"
          }
        },
        "1d747978276f481c998d029be097d19a": {
          "model_module": "@jupyter-widgets/controls",
          "model_name": "FloatProgressModel",
          "model_module_version": "1.5.0",
          "state": {
            "_dom_classes": [],
            "_model_module": "@jupyter-widgets/controls",
            "_model_module_version": "1.5.0",
            "_model_name": "FloatProgressModel",
            "_view_count": null,
            "_view_module": "@jupyter-widgets/controls",
            "_view_module_version": "1.5.0",
            "_view_name": "ProgressView",
            "bar_style": "success",
            "description": "",
            "description_tooltip": null,
            "layout": "IPY_MODEL_d6c887de754844a4b4e66f4875b8439e",
            "max": 100,
            "min": 0,
            "orientation": "horizontal",
            "style": "IPY_MODEL_10e0a65b18ec42fb9f7843fbeca000db",
            "value": 100
          }
        },
        "a6ee08169e634cb0bdfdd6a2166784c9": {
          "model_module": "@jupyter-widgets/controls",
          "model_name": "HTMLModel",
          "model_module_version": "1.5.0",
          "state": {
            "_dom_classes": [],
            "_model_module": "@jupyter-widgets/controls",
            "_model_module_version": "1.5.0",
            "_model_name": "HTMLModel",
            "_view_count": null,
            "_view_module": "@jupyter-widgets/controls",
            "_view_module_version": "1.5.0",
            "_view_name": "HTMLView",
            "description": "",
            "description_tooltip": null,
            "layout": "IPY_MODEL_ccf1cf10e11d4e01ba45cd15ef070e18",
            "placeholder": "​",
            "style": "IPY_MODEL_ba8ddc72a7d74bc9a4402324a3afb564",
            "value": " 100/100 [00:00&lt;00:00, 310.82 examples/s]"
          }
        },
        "76557c6eec714cb0b8645189ac5bf56e": {
          "model_module": "@jupyter-widgets/base",
          "model_name": "LayoutModel",
          "model_module_version": "1.2.0",
          "state": {
            "_model_module": "@jupyter-widgets/base",
            "_model_module_version": "1.2.0",
            "_model_name": "LayoutModel",
            "_view_count": null,
            "_view_module": "@jupyter-widgets/base",
            "_view_module_version": "1.2.0",
            "_view_name": "LayoutView",
            "align_content": null,
            "align_items": null,
            "align_self": null,
            "border": null,
            "bottom": null,
            "display": null,
            "flex": null,
            "flex_flow": null,
            "grid_area": null,
            "grid_auto_columns": null,
            "grid_auto_flow": null,
            "grid_auto_rows": null,
            "grid_column": null,
            "grid_gap": null,
            "grid_row": null,
            "grid_template_areas": null,
            "grid_template_columns": null,
            "grid_template_rows": null,
            "height": null,
            "justify_content": null,
            "justify_items": null,
            "left": null,
            "margin": null,
            "max_height": null,
            "max_width": null,
            "min_height": null,
            "min_width": null,
            "object_fit": null,
            "object_position": null,
            "order": null,
            "overflow": null,
            "overflow_x": null,
            "overflow_y": null,
            "padding": null,
            "right": null,
            "top": null,
            "visibility": null,
            "width": null
          }
        },
        "86ddb60ecd1d43c494dfebeebce69eb5": {
          "model_module": "@jupyter-widgets/base",
          "model_name": "LayoutModel",
          "model_module_version": "1.2.0",
          "state": {
            "_model_module": "@jupyter-widgets/base",
            "_model_module_version": "1.2.0",
            "_model_name": "LayoutModel",
            "_view_count": null,
            "_view_module": "@jupyter-widgets/base",
            "_view_module_version": "1.2.0",
            "_view_name": "LayoutView",
            "align_content": null,
            "align_items": null,
            "align_self": null,
            "border": null,
            "bottom": null,
            "display": null,
            "flex": null,
            "flex_flow": null,
            "grid_area": null,
            "grid_auto_columns": null,
            "grid_auto_flow": null,
            "grid_auto_rows": null,
            "grid_column": null,
            "grid_gap": null,
            "grid_row": null,
            "grid_template_areas": null,
            "grid_template_columns": null,
            "grid_template_rows": null,
            "height": null,
            "justify_content": null,
            "justify_items": null,
            "left": null,
            "margin": null,
            "max_height": null,
            "max_width": null,
            "min_height": null,
            "min_width": null,
            "object_fit": null,
            "object_position": null,
            "order": null,
            "overflow": null,
            "overflow_x": null,
            "overflow_y": null,
            "padding": null,
            "right": null,
            "top": null,
            "visibility": null,
            "width": null
          }
        },
        "0d6451dc813849f3899de768948c176c": {
          "model_module": "@jupyter-widgets/controls",
          "model_name": "DescriptionStyleModel",
          "model_module_version": "1.5.0",
          "state": {
            "_model_module": "@jupyter-widgets/controls",
            "_model_module_version": "1.5.0",
            "_model_name": "DescriptionStyleModel",
            "_view_count": null,
            "_view_module": "@jupyter-widgets/base",
            "_view_module_version": "1.2.0",
            "_view_name": "StyleView",
            "description_width": ""
          }
        },
        "d6c887de754844a4b4e66f4875b8439e": {
          "model_module": "@jupyter-widgets/base",
          "model_name": "LayoutModel",
          "model_module_version": "1.2.0",
          "state": {
            "_model_module": "@jupyter-widgets/base",
            "_model_module_version": "1.2.0",
            "_model_name": "LayoutModel",
            "_view_count": null,
            "_view_module": "@jupyter-widgets/base",
            "_view_module_version": "1.2.0",
            "_view_name": "LayoutView",
            "align_content": null,
            "align_items": null,
            "align_self": null,
            "border": null,
            "bottom": null,
            "display": null,
            "flex": null,
            "flex_flow": null,
            "grid_area": null,
            "grid_auto_columns": null,
            "grid_auto_flow": null,
            "grid_auto_rows": null,
            "grid_column": null,
            "grid_gap": null,
            "grid_row": null,
            "grid_template_areas": null,
            "grid_template_columns": null,
            "grid_template_rows": null,
            "height": null,
            "justify_content": null,
            "justify_items": null,
            "left": null,
            "margin": null,
            "max_height": null,
            "max_width": null,
            "min_height": null,
            "min_width": null,
            "object_fit": null,
            "object_position": null,
            "order": null,
            "overflow": null,
            "overflow_x": null,
            "overflow_y": null,
            "padding": null,
            "right": null,
            "top": null,
            "visibility": null,
            "width": null
          }
        },
        "10e0a65b18ec42fb9f7843fbeca000db": {
          "model_module": "@jupyter-widgets/controls",
          "model_name": "ProgressStyleModel",
          "model_module_version": "1.5.0",
          "state": {
            "_model_module": "@jupyter-widgets/controls",
            "_model_module_version": "1.5.0",
            "_model_name": "ProgressStyleModel",
            "_view_count": null,
            "_view_module": "@jupyter-widgets/base",
            "_view_module_version": "1.2.0",
            "_view_name": "StyleView",
            "bar_color": null,
            "description_width": ""
          }
        },
        "ccf1cf10e11d4e01ba45cd15ef070e18": {
          "model_module": "@jupyter-widgets/base",
          "model_name": "LayoutModel",
          "model_module_version": "1.2.0",
          "state": {
            "_model_module": "@jupyter-widgets/base",
            "_model_module_version": "1.2.0",
            "_model_name": "LayoutModel",
            "_view_count": null,
            "_view_module": "@jupyter-widgets/base",
            "_view_module_version": "1.2.0",
            "_view_name": "LayoutView",
            "align_content": null,
            "align_items": null,
            "align_self": null,
            "border": null,
            "bottom": null,
            "display": null,
            "flex": null,
            "flex_flow": null,
            "grid_area": null,
            "grid_auto_columns": null,
            "grid_auto_flow": null,
            "grid_auto_rows": null,
            "grid_column": null,
            "grid_gap": null,
            "grid_row": null,
            "grid_template_areas": null,
            "grid_template_columns": null,
            "grid_template_rows": null,
            "height": null,
            "justify_content": null,
            "justify_items": null,
            "left": null,
            "margin": null,
            "max_height": null,
            "max_width": null,
            "min_height": null,
            "min_width": null,
            "object_fit": null,
            "object_position": null,
            "order": null,
            "overflow": null,
            "overflow_x": null,
            "overflow_y": null,
            "padding": null,
            "right": null,
            "top": null,
            "visibility": null,
            "width": null
          }
        },
        "ba8ddc72a7d74bc9a4402324a3afb564": {
          "model_module": "@jupyter-widgets/controls",
          "model_name": "DescriptionStyleModel",
          "model_module_version": "1.5.0",
          "state": {
            "_model_module": "@jupyter-widgets/controls",
            "_model_module_version": "1.5.0",
            "_model_name": "DescriptionStyleModel",
            "_view_count": null,
            "_view_module": "@jupyter-widgets/base",
            "_view_module_version": "1.2.0",
            "_view_name": "StyleView",
            "description_width": ""
          }
        },
        "ae3c943a02d94eeaab51c3b44eefc0d6": {
          "model_module": "@jupyter-widgets/controls",
          "model_name": "HBoxModel",
          "model_module_version": "1.5.0",
          "state": {
            "_dom_classes": [],
            "_model_module": "@jupyter-widgets/controls",
            "_model_module_version": "1.5.0",
            "_model_name": "HBoxModel",
            "_view_count": null,
            "_view_module": "@jupyter-widgets/controls",
            "_view_module_version": "1.5.0",
            "_view_name": "HBoxView",
            "box_style": "",
            "children": [
              "IPY_MODEL_e53e5e2fbe20430ebbf51df48261a2bb",
              "IPY_MODEL_df03016413fa4511b355ed36c9d82065",
              "IPY_MODEL_8c90eec508454e99ac1fba755fce0ccf"
            ],
            "layout": "IPY_MODEL_2b7d1f6a8c1c427c83fc812b2dcc1b3f"
          }
        },
        "e53e5e2fbe20430ebbf51df48261a2bb": {
          "model_module": "@jupyter-widgets/controls",
          "model_name": "HTMLModel",
          "model_module_version": "1.5.0",
          "state": {
            "_dom_classes": [],
            "_model_module": "@jupyter-widgets/controls",
            "_model_module_version": "1.5.0",
            "_model_name": "HTMLModel",
            "_view_count": null,
            "_view_module": "@jupyter-widgets/controls",
            "_view_module_version": "1.5.0",
            "_view_name": "HTMLView",
            "description": "",
            "description_tooltip": null,
            "layout": "IPY_MODEL_edf1afba4d1f4f458ae7eca82c5b265a",
            "placeholder": "​",
            "style": "IPY_MODEL_8111451ce73b4abb89ed17cad30e54cb",
            "value": "Map: 100%"
          }
        },
        "df03016413fa4511b355ed36c9d82065": {
          "model_module": "@jupyter-widgets/controls",
          "model_name": "FloatProgressModel",
          "model_module_version": "1.5.0",
          "state": {
            "_dom_classes": [],
            "_model_module": "@jupyter-widgets/controls",
            "_model_module_version": "1.5.0",
            "_model_name": "FloatProgressModel",
            "_view_count": null,
            "_view_module": "@jupyter-widgets/controls",
            "_view_module_version": "1.5.0",
            "_view_name": "ProgressView",
            "bar_style": "success",
            "description": "",
            "description_tooltip": null,
            "layout": "IPY_MODEL_f9ec215a3c474e8c9ad47c733f15cb34",
            "max": 100,
            "min": 0,
            "orientation": "horizontal",
            "style": "IPY_MODEL_0bb3498b8422456db2ab527d7de03bad",
            "value": 100
          }
        },
        "8c90eec508454e99ac1fba755fce0ccf": {
          "model_module": "@jupyter-widgets/controls",
          "model_name": "HTMLModel",
          "model_module_version": "1.5.0",
          "state": {
            "_dom_classes": [],
            "_model_module": "@jupyter-widgets/controls",
            "_model_module_version": "1.5.0",
            "_model_name": "HTMLModel",
            "_view_count": null,
            "_view_module": "@jupyter-widgets/controls",
            "_view_module_version": "1.5.0",
            "_view_name": "HTMLView",
            "description": "",
            "description_tooltip": null,
            "layout": "IPY_MODEL_d5480d517547473caa69a6f1e818d3c7",
            "placeholder": "​",
            "style": "IPY_MODEL_bb8b4d9c37a44d6997f70aca87f515f6",
            "value": " 100/100 [00:00&lt;00:00, 417.23 examples/s]"
          }
        },
        "2b7d1f6a8c1c427c83fc812b2dcc1b3f": {
          "model_module": "@jupyter-widgets/base",
          "model_name": "LayoutModel",
          "model_module_version": "1.2.0",
          "state": {
            "_model_module": "@jupyter-widgets/base",
            "_model_module_version": "1.2.0",
            "_model_name": "LayoutModel",
            "_view_count": null,
            "_view_module": "@jupyter-widgets/base",
            "_view_module_version": "1.2.0",
            "_view_name": "LayoutView",
            "align_content": null,
            "align_items": null,
            "align_self": null,
            "border": null,
            "bottom": null,
            "display": null,
            "flex": null,
            "flex_flow": null,
            "grid_area": null,
            "grid_auto_columns": null,
            "grid_auto_flow": null,
            "grid_auto_rows": null,
            "grid_column": null,
            "grid_gap": null,
            "grid_row": null,
            "grid_template_areas": null,
            "grid_template_columns": null,
            "grid_template_rows": null,
            "height": null,
            "justify_content": null,
            "justify_items": null,
            "left": null,
            "margin": null,
            "max_height": null,
            "max_width": null,
            "min_height": null,
            "min_width": null,
            "object_fit": null,
            "object_position": null,
            "order": null,
            "overflow": null,
            "overflow_x": null,
            "overflow_y": null,
            "padding": null,
            "right": null,
            "top": null,
            "visibility": null,
            "width": null
          }
        },
        "edf1afba4d1f4f458ae7eca82c5b265a": {
          "model_module": "@jupyter-widgets/base",
          "model_name": "LayoutModel",
          "model_module_version": "1.2.0",
          "state": {
            "_model_module": "@jupyter-widgets/base",
            "_model_module_version": "1.2.0",
            "_model_name": "LayoutModel",
            "_view_count": null,
            "_view_module": "@jupyter-widgets/base",
            "_view_module_version": "1.2.0",
            "_view_name": "LayoutView",
            "align_content": null,
            "align_items": null,
            "align_self": null,
            "border": null,
            "bottom": null,
            "display": null,
            "flex": null,
            "flex_flow": null,
            "grid_area": null,
            "grid_auto_columns": null,
            "grid_auto_flow": null,
            "grid_auto_rows": null,
            "grid_column": null,
            "grid_gap": null,
            "grid_row": null,
            "grid_template_areas": null,
            "grid_template_columns": null,
            "grid_template_rows": null,
            "height": null,
            "justify_content": null,
            "justify_items": null,
            "left": null,
            "margin": null,
            "max_height": null,
            "max_width": null,
            "min_height": null,
            "min_width": null,
            "object_fit": null,
            "object_position": null,
            "order": null,
            "overflow": null,
            "overflow_x": null,
            "overflow_y": null,
            "padding": null,
            "right": null,
            "top": null,
            "visibility": null,
            "width": null
          }
        },
        "8111451ce73b4abb89ed17cad30e54cb": {
          "model_module": "@jupyter-widgets/controls",
          "model_name": "DescriptionStyleModel",
          "model_module_version": "1.5.0",
          "state": {
            "_model_module": "@jupyter-widgets/controls",
            "_model_module_version": "1.5.0",
            "_model_name": "DescriptionStyleModel",
            "_view_count": null,
            "_view_module": "@jupyter-widgets/base",
            "_view_module_version": "1.2.0",
            "_view_name": "StyleView",
            "description_width": ""
          }
        },
        "f9ec215a3c474e8c9ad47c733f15cb34": {
          "model_module": "@jupyter-widgets/base",
          "model_name": "LayoutModel",
          "model_module_version": "1.2.0",
          "state": {
            "_model_module": "@jupyter-widgets/base",
            "_model_module_version": "1.2.0",
            "_model_name": "LayoutModel",
            "_view_count": null,
            "_view_module": "@jupyter-widgets/base",
            "_view_module_version": "1.2.0",
            "_view_name": "LayoutView",
            "align_content": null,
            "align_items": null,
            "align_self": null,
            "border": null,
            "bottom": null,
            "display": null,
            "flex": null,
            "flex_flow": null,
            "grid_area": null,
            "grid_auto_columns": null,
            "grid_auto_flow": null,
            "grid_auto_rows": null,
            "grid_column": null,
            "grid_gap": null,
            "grid_row": null,
            "grid_template_areas": null,
            "grid_template_columns": null,
            "grid_template_rows": null,
            "height": null,
            "justify_content": null,
            "justify_items": null,
            "left": null,
            "margin": null,
            "max_height": null,
            "max_width": null,
            "min_height": null,
            "min_width": null,
            "object_fit": null,
            "object_position": null,
            "order": null,
            "overflow": null,
            "overflow_x": null,
            "overflow_y": null,
            "padding": null,
            "right": null,
            "top": null,
            "visibility": null,
            "width": null
          }
        },
        "0bb3498b8422456db2ab527d7de03bad": {
          "model_module": "@jupyter-widgets/controls",
          "model_name": "ProgressStyleModel",
          "model_module_version": "1.5.0",
          "state": {
            "_model_module": "@jupyter-widgets/controls",
            "_model_module_version": "1.5.0",
            "_model_name": "ProgressStyleModel",
            "_view_count": null,
            "_view_module": "@jupyter-widgets/base",
            "_view_module_version": "1.2.0",
            "_view_name": "StyleView",
            "bar_color": null,
            "description_width": ""
          }
        },
        "d5480d517547473caa69a6f1e818d3c7": {
          "model_module": "@jupyter-widgets/base",
          "model_name": "LayoutModel",
          "model_module_version": "1.2.0",
          "state": {
            "_model_module": "@jupyter-widgets/base",
            "_model_module_version": "1.2.0",
            "_model_name": "LayoutModel",
            "_view_count": null,
            "_view_module": "@jupyter-widgets/base",
            "_view_module_version": "1.2.0",
            "_view_name": "LayoutView",
            "align_content": null,
            "align_items": null,
            "align_self": null,
            "border": null,
            "bottom": null,
            "display": null,
            "flex": null,
            "flex_flow": null,
            "grid_area": null,
            "grid_auto_columns": null,
            "grid_auto_flow": null,
            "grid_auto_rows": null,
            "grid_column": null,
            "grid_gap": null,
            "grid_row": null,
            "grid_template_areas": null,
            "grid_template_columns": null,
            "grid_template_rows": null,
            "height": null,
            "justify_content": null,
            "justify_items": null,
            "left": null,
            "margin": null,
            "max_height": null,
            "max_width": null,
            "min_height": null,
            "min_width": null,
            "object_fit": null,
            "object_position": null,
            "order": null,
            "overflow": null,
            "overflow_x": null,
            "overflow_y": null,
            "padding": null,
            "right": null,
            "top": null,
            "visibility": null,
            "width": null
          }
        },
        "bb8b4d9c37a44d6997f70aca87f515f6": {
          "model_module": "@jupyter-widgets/controls",
          "model_name": "DescriptionStyleModel",
          "model_module_version": "1.5.0",
          "state": {
            "_model_module": "@jupyter-widgets/controls",
            "_model_module_version": "1.5.0",
            "_model_name": "DescriptionStyleModel",
            "_view_count": null,
            "_view_module": "@jupyter-widgets/base",
            "_view_module_version": "1.2.0",
            "_view_name": "StyleView",
            "description_width": ""
          }
        },
        "c6a15d9394394e6daa6da5a866ef385c": {
          "model_module": "@jupyter-widgets/controls",
          "model_name": "VBoxModel",
          "model_module_version": "1.5.0",
          "state": {
            "_dom_classes": [],
            "_model_module": "@jupyter-widgets/controls",
            "_model_module_version": "1.5.0",
            "_model_name": "VBoxModel",
            "_view_count": null,
            "_view_module": "@jupyter-widgets/controls",
            "_view_module_version": "1.5.0",
            "_view_name": "VBoxView",
            "box_style": "",
            "children": [
              "IPY_MODEL_c99ae6140223458fa8ff7bc7c2d14bf4",
              "IPY_MODEL_8a0b54468af643ea82fd09e9c84e5505",
              "IPY_MODEL_96da7137d18c4a0fa0a418af81dd1201",
              "IPY_MODEL_a9cc73246bb8418c870c885fb1c54075",
              "IPY_MODEL_db5abccdadd24c7b86aa9a4e513c0295"
            ],
            "layout": "IPY_MODEL_953271b621c941b898000aadf7990bc8"
          }
        },
        "c99ae6140223458fa8ff7bc7c2d14bf4": {
          "model_module": "@jupyter-widgets/controls",
          "model_name": "HTMLModel",
          "model_module_version": "1.5.0",
          "state": {
            "_dom_classes": [],
            "_model_module": "@jupyter-widgets/controls",
            "_model_module_version": "1.5.0",
            "_model_name": "HTMLModel",
            "_view_count": null,
            "_view_module": "@jupyter-widgets/controls",
            "_view_module_version": "1.5.0",
            "_view_name": "HTMLView",
            "description": "",
            "description_tooltip": null,
            "layout": "IPY_MODEL_3cc62463e62b4c4d8fb41de696c98143",
            "placeholder": "​",
            "style": "IPY_MODEL_37f0933fe17d42f8a8f18e1da86e52ed",
            "value": "<center> <img\nsrc=https://huggingface.co/front/assets/huggingface_logo-noborder.svg\nalt='Hugging Face'> <br> Copy a token from <a\nhref=\"https://huggingface.co/settings/tokens\" target=\"_blank\">your Hugging Face\ntokens page</a> and paste it below. <br> Immediately click login after copying\nyour token or it might be stored in plain text in this notebook file. </center>"
          }
        },
        "8a0b54468af643ea82fd09e9c84e5505": {
          "model_module": "@jupyter-widgets/controls",
          "model_name": "PasswordModel",
          "model_module_version": "1.5.0",
          "state": {
            "_dom_classes": [],
            "_model_module": "@jupyter-widgets/controls",
            "_model_module_version": "1.5.0",
            "_model_name": "PasswordModel",
            "_view_count": null,
            "_view_module": "@jupyter-widgets/controls",
            "_view_module_version": "1.5.0",
            "_view_name": "PasswordView",
            "continuous_update": true,
            "description": "Token:",
            "description_tooltip": null,
            "disabled": false,
            "layout": "IPY_MODEL_c746055f36ca438284fd13e739cd32a2",
            "placeholder": "​",
            "style": "IPY_MODEL_f192965f0b7d44f3be555ad15759323f",
            "value": ""
          }
        },
        "96da7137d18c4a0fa0a418af81dd1201": {
          "model_module": "@jupyter-widgets/controls",
          "model_name": "CheckboxModel",
          "model_module_version": "1.5.0",
          "state": {
            "_dom_classes": [],
            "_model_module": "@jupyter-widgets/controls",
            "_model_module_version": "1.5.0",
            "_model_name": "CheckboxModel",
            "_view_count": null,
            "_view_module": "@jupyter-widgets/controls",
            "_view_module_version": "1.5.0",
            "_view_name": "CheckboxView",
            "description": "Add token as git credential?",
            "description_tooltip": null,
            "disabled": false,
            "indent": true,
            "layout": "IPY_MODEL_7703c6cae4c34a5ea522febeb787b7e7",
            "style": "IPY_MODEL_3d5f97ac2b6f4d58b15eeeabe3354daa",
            "value": true
          }
        },
        "a9cc73246bb8418c870c885fb1c54075": {
          "model_module": "@jupyter-widgets/controls",
          "model_name": "ButtonModel",
          "model_module_version": "1.5.0",
          "state": {
            "_dom_classes": [],
            "_model_module": "@jupyter-widgets/controls",
            "_model_module_version": "1.5.0",
            "_model_name": "ButtonModel",
            "_view_count": null,
            "_view_module": "@jupyter-widgets/controls",
            "_view_module_version": "1.5.0",
            "_view_name": "ButtonView",
            "button_style": "",
            "description": "Login",
            "disabled": false,
            "icon": "",
            "layout": "IPY_MODEL_6bff076389574ab7b82e4194b83ce0d7",
            "style": "IPY_MODEL_72ef4c320c7d414e88b5fef8b855484d",
            "tooltip": ""
          }
        },
        "db5abccdadd24c7b86aa9a4e513c0295": {
          "model_module": "@jupyter-widgets/controls",
          "model_name": "HTMLModel",
          "model_module_version": "1.5.0",
          "state": {
            "_dom_classes": [],
            "_model_module": "@jupyter-widgets/controls",
            "_model_module_version": "1.5.0",
            "_model_name": "HTMLModel",
            "_view_count": null,
            "_view_module": "@jupyter-widgets/controls",
            "_view_module_version": "1.5.0",
            "_view_name": "HTMLView",
            "description": "",
            "description_tooltip": null,
            "layout": "IPY_MODEL_397e2b2e3c334b48b49055edbc714e89",
            "placeholder": "​",
            "style": "IPY_MODEL_8c69667f87d841c88e583e7ed7571b41",
            "value": "\n<b>Pro Tip:</b> If you don't already have one, you can create a dedicated\n'notebooks' token with 'write' access, that you can then easily reuse for all\nnotebooks. </center>"
          }
        },
        "953271b621c941b898000aadf7990bc8": {
          "model_module": "@jupyter-widgets/base",
          "model_name": "LayoutModel",
          "model_module_version": "1.2.0",
          "state": {
            "_model_module": "@jupyter-widgets/base",
            "_model_module_version": "1.2.0",
            "_model_name": "LayoutModel",
            "_view_count": null,
            "_view_module": "@jupyter-widgets/base",
            "_view_module_version": "1.2.0",
            "_view_name": "LayoutView",
            "align_content": null,
            "align_items": "center",
            "align_self": null,
            "border": null,
            "bottom": null,
            "display": "flex",
            "flex": null,
            "flex_flow": "column",
            "grid_area": null,
            "grid_auto_columns": null,
            "grid_auto_flow": null,
            "grid_auto_rows": null,
            "grid_column": null,
            "grid_gap": null,
            "grid_row": null,
            "grid_template_areas": null,
            "grid_template_columns": null,
            "grid_template_rows": null,
            "height": null,
            "justify_content": null,
            "justify_items": null,
            "left": null,
            "margin": null,
            "max_height": null,
            "max_width": null,
            "min_height": null,
            "min_width": null,
            "object_fit": null,
            "object_position": null,
            "order": null,
            "overflow": null,
            "overflow_x": null,
            "overflow_y": null,
            "padding": null,
            "right": null,
            "top": null,
            "visibility": null,
            "width": "50%"
          }
        },
        "3cc62463e62b4c4d8fb41de696c98143": {
          "model_module": "@jupyter-widgets/base",
          "model_name": "LayoutModel",
          "model_module_version": "1.2.0",
          "state": {
            "_model_module": "@jupyter-widgets/base",
            "_model_module_version": "1.2.0",
            "_model_name": "LayoutModel",
            "_view_count": null,
            "_view_module": "@jupyter-widgets/base",
            "_view_module_version": "1.2.0",
            "_view_name": "LayoutView",
            "align_content": null,
            "align_items": null,
            "align_self": null,
            "border": null,
            "bottom": null,
            "display": null,
            "flex": null,
            "flex_flow": null,
            "grid_area": null,
            "grid_auto_columns": null,
            "grid_auto_flow": null,
            "grid_auto_rows": null,
            "grid_column": null,
            "grid_gap": null,
            "grid_row": null,
            "grid_template_areas": null,
            "grid_template_columns": null,
            "grid_template_rows": null,
            "height": null,
            "justify_content": null,
            "justify_items": null,
            "left": null,
            "margin": null,
            "max_height": null,
            "max_width": null,
            "min_height": null,
            "min_width": null,
            "object_fit": null,
            "object_position": null,
            "order": null,
            "overflow": null,
            "overflow_x": null,
            "overflow_y": null,
            "padding": null,
            "right": null,
            "top": null,
            "visibility": null,
            "width": null
          }
        },
        "37f0933fe17d42f8a8f18e1da86e52ed": {
          "model_module": "@jupyter-widgets/controls",
          "model_name": "DescriptionStyleModel",
          "model_module_version": "1.5.0",
          "state": {
            "_model_module": "@jupyter-widgets/controls",
            "_model_module_version": "1.5.0",
            "_model_name": "DescriptionStyleModel",
            "_view_count": null,
            "_view_module": "@jupyter-widgets/base",
            "_view_module_version": "1.2.0",
            "_view_name": "StyleView",
            "description_width": ""
          }
        },
        "c746055f36ca438284fd13e739cd32a2": {
          "model_module": "@jupyter-widgets/base",
          "model_name": "LayoutModel",
          "model_module_version": "1.2.0",
          "state": {
            "_model_module": "@jupyter-widgets/base",
            "_model_module_version": "1.2.0",
            "_model_name": "LayoutModel",
            "_view_count": null,
            "_view_module": "@jupyter-widgets/base",
            "_view_module_version": "1.2.0",
            "_view_name": "LayoutView",
            "align_content": null,
            "align_items": null,
            "align_self": null,
            "border": null,
            "bottom": null,
            "display": null,
            "flex": null,
            "flex_flow": null,
            "grid_area": null,
            "grid_auto_columns": null,
            "grid_auto_flow": null,
            "grid_auto_rows": null,
            "grid_column": null,
            "grid_gap": null,
            "grid_row": null,
            "grid_template_areas": null,
            "grid_template_columns": null,
            "grid_template_rows": null,
            "height": null,
            "justify_content": null,
            "justify_items": null,
            "left": null,
            "margin": null,
            "max_height": null,
            "max_width": null,
            "min_height": null,
            "min_width": null,
            "object_fit": null,
            "object_position": null,
            "order": null,
            "overflow": null,
            "overflow_x": null,
            "overflow_y": null,
            "padding": null,
            "right": null,
            "top": null,
            "visibility": null,
            "width": null
          }
        },
        "f192965f0b7d44f3be555ad15759323f": {
          "model_module": "@jupyter-widgets/controls",
          "model_name": "DescriptionStyleModel",
          "model_module_version": "1.5.0",
          "state": {
            "_model_module": "@jupyter-widgets/controls",
            "_model_module_version": "1.5.0",
            "_model_name": "DescriptionStyleModel",
            "_view_count": null,
            "_view_module": "@jupyter-widgets/base",
            "_view_module_version": "1.2.0",
            "_view_name": "StyleView",
            "description_width": ""
          }
        },
        "7703c6cae4c34a5ea522febeb787b7e7": {
          "model_module": "@jupyter-widgets/base",
          "model_name": "LayoutModel",
          "model_module_version": "1.2.0",
          "state": {
            "_model_module": "@jupyter-widgets/base",
            "_model_module_version": "1.2.0",
            "_model_name": "LayoutModel",
            "_view_count": null,
            "_view_module": "@jupyter-widgets/base",
            "_view_module_version": "1.2.0",
            "_view_name": "LayoutView",
            "align_content": null,
            "align_items": null,
            "align_self": null,
            "border": null,
            "bottom": null,
            "display": null,
            "flex": null,
            "flex_flow": null,
            "grid_area": null,
            "grid_auto_columns": null,
            "grid_auto_flow": null,
            "grid_auto_rows": null,
            "grid_column": null,
            "grid_gap": null,
            "grid_row": null,
            "grid_template_areas": null,
            "grid_template_columns": null,
            "grid_template_rows": null,
            "height": null,
            "justify_content": null,
            "justify_items": null,
            "left": null,
            "margin": null,
            "max_height": null,
            "max_width": null,
            "min_height": null,
            "min_width": null,
            "object_fit": null,
            "object_position": null,
            "order": null,
            "overflow": null,
            "overflow_x": null,
            "overflow_y": null,
            "padding": null,
            "right": null,
            "top": null,
            "visibility": null,
            "width": null
          }
        },
        "3d5f97ac2b6f4d58b15eeeabe3354daa": {
          "model_module": "@jupyter-widgets/controls",
          "model_name": "DescriptionStyleModel",
          "model_module_version": "1.5.0",
          "state": {
            "_model_module": "@jupyter-widgets/controls",
            "_model_module_version": "1.5.0",
            "_model_name": "DescriptionStyleModel",
            "_view_count": null,
            "_view_module": "@jupyter-widgets/base",
            "_view_module_version": "1.2.0",
            "_view_name": "StyleView",
            "description_width": ""
          }
        },
        "6bff076389574ab7b82e4194b83ce0d7": {
          "model_module": "@jupyter-widgets/base",
          "model_name": "LayoutModel",
          "model_module_version": "1.2.0",
          "state": {
            "_model_module": "@jupyter-widgets/base",
            "_model_module_version": "1.2.0",
            "_model_name": "LayoutModel",
            "_view_count": null,
            "_view_module": "@jupyter-widgets/base",
            "_view_module_version": "1.2.0",
            "_view_name": "LayoutView",
            "align_content": null,
            "align_items": null,
            "align_self": null,
            "border": null,
            "bottom": null,
            "display": null,
            "flex": null,
            "flex_flow": null,
            "grid_area": null,
            "grid_auto_columns": null,
            "grid_auto_flow": null,
            "grid_auto_rows": null,
            "grid_column": null,
            "grid_gap": null,
            "grid_row": null,
            "grid_template_areas": null,
            "grid_template_columns": null,
            "grid_template_rows": null,
            "height": null,
            "justify_content": null,
            "justify_items": null,
            "left": null,
            "margin": null,
            "max_height": null,
            "max_width": null,
            "min_height": null,
            "min_width": null,
            "object_fit": null,
            "object_position": null,
            "order": null,
            "overflow": null,
            "overflow_x": null,
            "overflow_y": null,
            "padding": null,
            "right": null,
            "top": null,
            "visibility": null,
            "width": null
          }
        },
        "72ef4c320c7d414e88b5fef8b855484d": {
          "model_module": "@jupyter-widgets/controls",
          "model_name": "ButtonStyleModel",
          "model_module_version": "1.5.0",
          "state": {
            "_model_module": "@jupyter-widgets/controls",
            "_model_module_version": "1.5.0",
            "_model_name": "ButtonStyleModel",
            "_view_count": null,
            "_view_module": "@jupyter-widgets/base",
            "_view_module_version": "1.2.0",
            "_view_name": "StyleView",
            "button_color": null,
            "font_weight": ""
          }
        },
        "397e2b2e3c334b48b49055edbc714e89": {
          "model_module": "@jupyter-widgets/base",
          "model_name": "LayoutModel",
          "model_module_version": "1.2.0",
          "state": {
            "_model_module": "@jupyter-widgets/base",
            "_model_module_version": "1.2.0",
            "_model_name": "LayoutModel",
            "_view_count": null,
            "_view_module": "@jupyter-widgets/base",
            "_view_module_version": "1.2.0",
            "_view_name": "LayoutView",
            "align_content": null,
            "align_items": null,
            "align_self": null,
            "border": null,
            "bottom": null,
            "display": null,
            "flex": null,
            "flex_flow": null,
            "grid_area": null,
            "grid_auto_columns": null,
            "grid_auto_flow": null,
            "grid_auto_rows": null,
            "grid_column": null,
            "grid_gap": null,
            "grid_row": null,
            "grid_template_areas": null,
            "grid_template_columns": null,
            "grid_template_rows": null,
            "height": null,
            "justify_content": null,
            "justify_items": null,
            "left": null,
            "margin": null,
            "max_height": null,
            "max_width": null,
            "min_height": null,
            "min_width": null,
            "object_fit": null,
            "object_position": null,
            "order": null,
            "overflow": null,
            "overflow_x": null,
            "overflow_y": null,
            "padding": null,
            "right": null,
            "top": null,
            "visibility": null,
            "width": null
          }
        },
        "8c69667f87d841c88e583e7ed7571b41": {
          "model_module": "@jupyter-widgets/controls",
          "model_name": "DescriptionStyleModel",
          "model_module_version": "1.5.0",
          "state": {
            "_model_module": "@jupyter-widgets/controls",
            "_model_module_version": "1.5.0",
            "_model_name": "DescriptionStyleModel",
            "_view_count": null,
            "_view_module": "@jupyter-widgets/base",
            "_view_module_version": "1.2.0",
            "_view_name": "StyleView",
            "description_width": ""
          }
        }
      }
    },
    "colab": {
      "provenance": [],
      "gpuType": "T4",
      "include_colab_link": true
    },
    "accelerator": "GPU"
  },
  "nbformat_minor": 5,
  "nbformat": 4,
  "cells": [
    {
      "cell_type": "markdown",
      "metadata": {
        "id": "view-in-github",
        "colab_type": "text"
      },
      "source": [
        "<a href=\"https://colab.research.google.com/github/umairaziz999/BERT-Style-LLM-Assignment/blob/main/LLM_Assignment.ipynb\" target=\"_parent\"><img src=\"https://colab.research.google.com/assets/colab-badge.svg\" alt=\"Open In Colab\"/></a>"
      ]
    },
    {
      "cell_type": "markdown",
      "source": [
        "# **Introduction**\n",
        "In this document, we discuss the process of fine-tuning the mbart-50 model using personalized data for translating English to Urdu. We'll guide you through every step, from data preparation to model input. Our setup involves the utilization of 2 T4 GPUs for this task."
      ],
      "metadata": {
        "id": "nvFquJSPaOB5",
        "papermill": {
          "duration": 0.842915,
          "end_time": "2023-07-22T16:17:54.877841",
          "exception": false,
          "start_time": "2023-07-22T16:17:54.034926",
          "status": "completed"
        },
        "tags": [],
        "execution": {
          "iopub.status.busy": "2023-08-09T12:27:29.060220Z",
          "iopub.execute_input": "2023-08-09T12:27:29.060595Z",
          "iopub.status.idle": "2023-08-09T12:27:30.512413Z",
          "shell.execute_reply.started": "2023-08-09T12:27:29.060563Z",
          "shell.execute_reply": "2023-08-09T12:27:30.511281Z"
        }
      },
      "id": "nvFquJSPaOB5"
    },
    {
      "cell_type": "code",
      "source": [
        "!pip install datasets\n",
        "!pip install transformers[torch]\n",
        "!pip install accelerate -U"
      ],
      "metadata": {
        "colab": {
          "base_uri": "https://localhost:8080/"
        },
        "id": "f4ljkNktye33",
        "outputId": "4227d001-0477-4856-8c04-bd47b4ee4ddb"
      },
      "id": "f4ljkNktye33",
      "execution_count": null,
      "outputs": [
        {
          "output_type": "stream",
          "name": "stdout",
          "text": [
            "Requirement already satisfied: datasets in /usr/local/lib/python3.10/dist-packages (2.19.0)\n",
            "Requirement already satisfied: filelock in /usr/local/lib/python3.10/dist-packages (from datasets) (3.13.4)\n",
            "Requirement already satisfied: numpy>=1.17 in /usr/local/lib/python3.10/dist-packages (from datasets) (1.25.2)\n",
            "Requirement already satisfied: pyarrow>=12.0.0 in /usr/local/lib/python3.10/dist-packages (from datasets) (14.0.2)\n",
            "Requirement already satisfied: pyarrow-hotfix in /usr/local/lib/python3.10/dist-packages (from datasets) (0.6)\n",
            "Requirement already satisfied: dill<0.3.9,>=0.3.0 in /usr/local/lib/python3.10/dist-packages (from datasets) (0.3.8)\n",
            "Requirement already satisfied: pandas in /usr/local/lib/python3.10/dist-packages (from datasets) (2.0.3)\n",
            "Requirement already satisfied: requests>=2.19.0 in /usr/local/lib/python3.10/dist-packages (from datasets) (2.31.0)\n",
            "Requirement already satisfied: tqdm>=4.62.1 in /usr/local/lib/python3.10/dist-packages (from datasets) (4.66.2)\n",
            "Requirement already satisfied: xxhash in /usr/local/lib/python3.10/dist-packages (from datasets) (3.4.1)\n",
            "Requirement already satisfied: multiprocess in /usr/local/lib/python3.10/dist-packages (from datasets) (0.70.16)\n",
            "Requirement already satisfied: fsspec[http]<=2024.3.1,>=2023.1.0 in /usr/local/lib/python3.10/dist-packages (from datasets) (2023.6.0)\n",
            "Requirement already satisfied: aiohttp in /usr/local/lib/python3.10/dist-packages (from datasets) (3.9.5)\n",
            "Requirement already satisfied: huggingface-hub>=0.21.2 in /usr/local/lib/python3.10/dist-packages (from datasets) (0.22.2)\n",
            "Requirement already satisfied: packaging in /usr/local/lib/python3.10/dist-packages (from datasets) (24.0)\n",
            "Requirement already satisfied: pyyaml>=5.1 in /usr/local/lib/python3.10/dist-packages (from datasets) (6.0.1)\n",
            "Requirement already satisfied: aiosignal>=1.1.2 in /usr/local/lib/python3.10/dist-packages (from aiohttp->datasets) (1.3.1)\n",
            "Requirement already satisfied: attrs>=17.3.0 in /usr/local/lib/python3.10/dist-packages (from aiohttp->datasets) (23.2.0)\n",
            "Requirement already satisfied: frozenlist>=1.1.1 in /usr/local/lib/python3.10/dist-packages (from aiohttp->datasets) (1.4.1)\n",
            "Requirement already satisfied: multidict<7.0,>=4.5 in /usr/local/lib/python3.10/dist-packages (from aiohttp->datasets) (6.0.5)\n",
            "Requirement already satisfied: yarl<2.0,>=1.0 in /usr/local/lib/python3.10/dist-packages (from aiohttp->datasets) (1.9.4)\n",
            "Requirement already satisfied: async-timeout<5.0,>=4.0 in /usr/local/lib/python3.10/dist-packages (from aiohttp->datasets) (4.0.3)\n",
            "Requirement already satisfied: typing-extensions>=3.7.4.3 in /usr/local/lib/python3.10/dist-packages (from huggingface-hub>=0.21.2->datasets) (4.11.0)\n",
            "Requirement already satisfied: charset-normalizer<4,>=2 in /usr/local/lib/python3.10/dist-packages (from requests>=2.19.0->datasets) (3.3.2)\n",
            "Requirement already satisfied: idna<4,>=2.5 in /usr/local/lib/python3.10/dist-packages (from requests>=2.19.0->datasets) (3.7)\n",
            "Requirement already satisfied: urllib3<3,>=1.21.1 in /usr/local/lib/python3.10/dist-packages (from requests>=2.19.0->datasets) (2.0.7)\n",
            "Requirement already satisfied: certifi>=2017.4.17 in /usr/local/lib/python3.10/dist-packages (from requests>=2.19.0->datasets) (2024.2.2)\n",
            "Requirement already satisfied: python-dateutil>=2.8.2 in /usr/local/lib/python3.10/dist-packages (from pandas->datasets) (2.8.2)\n",
            "Requirement already satisfied: pytz>=2020.1 in /usr/local/lib/python3.10/dist-packages (from pandas->datasets) (2023.4)\n",
            "Requirement already satisfied: tzdata>=2022.1 in /usr/local/lib/python3.10/dist-packages (from pandas->datasets) (2024.1)\n",
            "Requirement already satisfied: six>=1.5 in /usr/local/lib/python3.10/dist-packages (from python-dateutil>=2.8.2->pandas->datasets) (1.16.0)\n",
            "Requirement already satisfied: transformers[torch] in /usr/local/lib/python3.10/dist-packages (4.40.1)\n",
            "Requirement already satisfied: filelock in /usr/local/lib/python3.10/dist-packages (from transformers[torch]) (3.13.4)\n",
            "Requirement already satisfied: huggingface-hub<1.0,>=0.19.3 in /usr/local/lib/python3.10/dist-packages (from transformers[torch]) (0.22.2)\n",
            "Requirement already satisfied: numpy>=1.17 in /usr/local/lib/python3.10/dist-packages (from transformers[torch]) (1.25.2)\n",
            "Requirement already satisfied: packaging>=20.0 in /usr/local/lib/python3.10/dist-packages (from transformers[torch]) (24.0)\n",
            "Requirement already satisfied: pyyaml>=5.1 in /usr/local/lib/python3.10/dist-packages (from transformers[torch]) (6.0.1)\n",
            "Requirement already satisfied: regex!=2019.12.17 in /usr/local/lib/python3.10/dist-packages (from transformers[torch]) (2023.12.25)\n",
            "Requirement already satisfied: requests in /usr/local/lib/python3.10/dist-packages (from transformers[torch]) (2.31.0)\n",
            "Requirement already satisfied: tokenizers<0.20,>=0.19 in /usr/local/lib/python3.10/dist-packages (from transformers[torch]) (0.19.1)\n",
            "Requirement already satisfied: safetensors>=0.4.1 in /usr/local/lib/python3.10/dist-packages (from transformers[torch]) (0.4.3)\n",
            "Requirement already satisfied: tqdm>=4.27 in /usr/local/lib/python3.10/dist-packages (from transformers[torch]) (4.66.2)\n",
            "Requirement already satisfied: torch in /usr/local/lib/python3.10/dist-packages (from transformers[torch]) (2.2.1+cu121)\n",
            "Requirement already satisfied: accelerate>=0.21.0 in /usr/local/lib/python3.10/dist-packages (from transformers[torch]) (0.29.3)\n",
            "Requirement already satisfied: psutil in /usr/local/lib/python3.10/dist-packages (from accelerate>=0.21.0->transformers[torch]) (5.9.5)\n",
            "Requirement already satisfied: fsspec>=2023.5.0 in /usr/local/lib/python3.10/dist-packages (from huggingface-hub<1.0,>=0.19.3->transformers[torch]) (2023.6.0)\n",
            "Requirement already satisfied: typing-extensions>=3.7.4.3 in /usr/local/lib/python3.10/dist-packages (from huggingface-hub<1.0,>=0.19.3->transformers[torch]) (4.11.0)\n",
            "Requirement already satisfied: sympy in /usr/local/lib/python3.10/dist-packages (from torch->transformers[torch]) (1.12)\n",
            "Requirement already satisfied: networkx in /usr/local/lib/python3.10/dist-packages (from torch->transformers[torch]) (3.3)\n",
            "Requirement already satisfied: jinja2 in /usr/local/lib/python3.10/dist-packages (from torch->transformers[torch]) (3.1.3)\n",
            "Requirement already satisfied: nvidia-cuda-nvrtc-cu12==12.1.105 in /usr/local/lib/python3.10/dist-packages (from torch->transformers[torch]) (12.1.105)\n",
            "Requirement already satisfied: nvidia-cuda-runtime-cu12==12.1.105 in /usr/local/lib/python3.10/dist-packages (from torch->transformers[torch]) (12.1.105)\n",
            "Requirement already satisfied: nvidia-cuda-cupti-cu12==12.1.105 in /usr/local/lib/python3.10/dist-packages (from torch->transformers[torch]) (12.1.105)\n",
            "Requirement already satisfied: nvidia-cudnn-cu12==8.9.2.26 in /usr/local/lib/python3.10/dist-packages (from torch->transformers[torch]) (8.9.2.26)\n",
            "Requirement already satisfied: nvidia-cublas-cu12==12.1.3.1 in /usr/local/lib/python3.10/dist-packages (from torch->transformers[torch]) (12.1.3.1)\n",
            "Requirement already satisfied: nvidia-cufft-cu12==11.0.2.54 in /usr/local/lib/python3.10/dist-packages (from torch->transformers[torch]) (11.0.2.54)\n",
            "Requirement already satisfied: nvidia-curand-cu12==10.3.2.106 in /usr/local/lib/python3.10/dist-packages (from torch->transformers[torch]) (10.3.2.106)\n",
            "Requirement already satisfied: nvidia-cusolver-cu12==11.4.5.107 in /usr/local/lib/python3.10/dist-packages (from torch->transformers[torch]) (11.4.5.107)\n",
            "Requirement already satisfied: nvidia-cusparse-cu12==12.1.0.106 in /usr/local/lib/python3.10/dist-packages (from torch->transformers[torch]) (12.1.0.106)\n",
            "Requirement already satisfied: nvidia-nccl-cu12==2.19.3 in /usr/local/lib/python3.10/dist-packages (from torch->transformers[torch]) (2.19.3)\n",
            "Requirement already satisfied: nvidia-nvtx-cu12==12.1.105 in /usr/local/lib/python3.10/dist-packages (from torch->transformers[torch]) (12.1.105)\n",
            "Requirement already satisfied: triton==2.2.0 in /usr/local/lib/python3.10/dist-packages (from torch->transformers[torch]) (2.2.0)\n",
            "Requirement already satisfied: nvidia-nvjitlink-cu12 in /usr/local/lib/python3.10/dist-packages (from nvidia-cusolver-cu12==11.4.5.107->torch->transformers[torch]) (12.4.127)\n",
            "Requirement already satisfied: charset-normalizer<4,>=2 in /usr/local/lib/python3.10/dist-packages (from requests->transformers[torch]) (3.3.2)\n",
            "Requirement already satisfied: idna<4,>=2.5 in /usr/local/lib/python3.10/dist-packages (from requests->transformers[torch]) (3.7)\n",
            "Requirement already satisfied: urllib3<3,>=1.21.1 in /usr/local/lib/python3.10/dist-packages (from requests->transformers[torch]) (2.0.7)\n",
            "Requirement already satisfied: certifi>=2017.4.17 in /usr/local/lib/python3.10/dist-packages (from requests->transformers[torch]) (2024.2.2)\n",
            "Requirement already satisfied: MarkupSafe>=2.0 in /usr/local/lib/python3.10/dist-packages (from jinja2->torch->transformers[torch]) (2.1.5)\n",
            "Requirement already satisfied: mpmath>=0.19 in /usr/local/lib/python3.10/dist-packages (from sympy->torch->transformers[torch]) (1.3.0)\n",
            "Requirement already satisfied: accelerate in /usr/local/lib/python3.10/dist-packages (0.29.3)\n",
            "Requirement already satisfied: numpy>=1.17 in /usr/local/lib/python3.10/dist-packages (from accelerate) (1.25.2)\n",
            "Requirement already satisfied: packaging>=20.0 in /usr/local/lib/python3.10/dist-packages (from accelerate) (24.0)\n",
            "Requirement already satisfied: psutil in /usr/local/lib/python3.10/dist-packages (from accelerate) (5.9.5)\n",
            "Requirement already satisfied: pyyaml in /usr/local/lib/python3.10/dist-packages (from accelerate) (6.0.1)\n",
            "Requirement already satisfied: torch>=1.10.0 in /usr/local/lib/python3.10/dist-packages (from accelerate) (2.2.1+cu121)\n",
            "Requirement already satisfied: huggingface-hub in /usr/local/lib/python3.10/dist-packages (from accelerate) (0.22.2)\n",
            "Requirement already satisfied: safetensors>=0.3.1 in /usr/local/lib/python3.10/dist-packages (from accelerate) (0.4.3)\n",
            "Requirement already satisfied: filelock in /usr/local/lib/python3.10/dist-packages (from torch>=1.10.0->accelerate) (3.13.4)\n",
            "Requirement already satisfied: typing-extensions>=4.8.0 in /usr/local/lib/python3.10/dist-packages (from torch>=1.10.0->accelerate) (4.11.0)\n",
            "Requirement already satisfied: sympy in /usr/local/lib/python3.10/dist-packages (from torch>=1.10.0->accelerate) (1.12)\n",
            "Requirement already satisfied: networkx in /usr/local/lib/python3.10/dist-packages (from torch>=1.10.0->accelerate) (3.3)\n",
            "Requirement already satisfied: jinja2 in /usr/local/lib/python3.10/dist-packages (from torch>=1.10.0->accelerate) (3.1.3)\n",
            "Requirement already satisfied: fsspec in /usr/local/lib/python3.10/dist-packages (from torch>=1.10.0->accelerate) (2023.6.0)\n",
            "Requirement already satisfied: nvidia-cuda-nvrtc-cu12==12.1.105 in /usr/local/lib/python3.10/dist-packages (from torch>=1.10.0->accelerate) (12.1.105)\n",
            "Requirement already satisfied: nvidia-cuda-runtime-cu12==12.1.105 in /usr/local/lib/python3.10/dist-packages (from torch>=1.10.0->accelerate) (12.1.105)\n",
            "Requirement already satisfied: nvidia-cuda-cupti-cu12==12.1.105 in /usr/local/lib/python3.10/dist-packages (from torch>=1.10.0->accelerate) (12.1.105)\n",
            "Requirement already satisfied: nvidia-cudnn-cu12==8.9.2.26 in /usr/local/lib/python3.10/dist-packages (from torch>=1.10.0->accelerate) (8.9.2.26)\n",
            "Requirement already satisfied: nvidia-cublas-cu12==12.1.3.1 in /usr/local/lib/python3.10/dist-packages (from torch>=1.10.0->accelerate) (12.1.3.1)\n",
            "Requirement already satisfied: nvidia-cufft-cu12==11.0.2.54 in /usr/local/lib/python3.10/dist-packages (from torch>=1.10.0->accelerate) (11.0.2.54)\n",
            "Requirement already satisfied: nvidia-curand-cu12==10.3.2.106 in /usr/local/lib/python3.10/dist-packages (from torch>=1.10.0->accelerate) (10.3.2.106)\n",
            "Requirement already satisfied: nvidia-cusolver-cu12==11.4.5.107 in /usr/local/lib/python3.10/dist-packages (from torch>=1.10.0->accelerate) (11.4.5.107)\n",
            "Requirement already satisfied: nvidia-cusparse-cu12==12.1.0.106 in /usr/local/lib/python3.10/dist-packages (from torch>=1.10.0->accelerate) (12.1.0.106)\n",
            "Requirement already satisfied: nvidia-nccl-cu12==2.19.3 in /usr/local/lib/python3.10/dist-packages (from torch>=1.10.0->accelerate) (2.19.3)\n",
            "Requirement already satisfied: nvidia-nvtx-cu12==12.1.105 in /usr/local/lib/python3.10/dist-packages (from torch>=1.10.0->accelerate) (12.1.105)\n",
            "Requirement already satisfied: triton==2.2.0 in /usr/local/lib/python3.10/dist-packages (from torch>=1.10.0->accelerate) (2.2.0)\n",
            "Requirement already satisfied: nvidia-nvjitlink-cu12 in /usr/local/lib/python3.10/dist-packages (from nvidia-cusolver-cu12==11.4.5.107->torch>=1.10.0->accelerate) (12.4.127)\n",
            "Requirement already satisfied: requests in /usr/local/lib/python3.10/dist-packages (from huggingface-hub->accelerate) (2.31.0)\n",
            "Requirement already satisfied: tqdm>=4.42.1 in /usr/local/lib/python3.10/dist-packages (from huggingface-hub->accelerate) (4.66.2)\n",
            "Requirement already satisfied: MarkupSafe>=2.0 in /usr/local/lib/python3.10/dist-packages (from jinja2->torch>=1.10.0->accelerate) (2.1.5)\n",
            "Requirement already satisfied: charset-normalizer<4,>=2 in /usr/local/lib/python3.10/dist-packages (from requests->huggingface-hub->accelerate) (3.3.2)\n",
            "Requirement already satisfied: idna<4,>=2.5 in /usr/local/lib/python3.10/dist-packages (from requests->huggingface-hub->accelerate) (3.7)\n",
            "Requirement already satisfied: urllib3<3,>=1.21.1 in /usr/local/lib/python3.10/dist-packages (from requests->huggingface-hub->accelerate) (2.0.7)\n",
            "Requirement already satisfied: certifi>=2017.4.17 in /usr/local/lib/python3.10/dist-packages (from requests->huggingface-hub->accelerate) (2024.2.2)\n",
            "Requirement already satisfied: mpmath>=0.19 in /usr/local/lib/python3.10/dist-packages (from sympy->torch>=1.10.0->accelerate) (1.3.0)\n"
          ]
        }
      ]
    },
    {
      "cell_type": "code",
      "source": [
        "import datasets\n",
        "import csv\n",
        "import os\n",
        "from datasets import concatenate_datasets,Dataset\n",
        "import pandas as pd\n",
        "from datasets import Dataset\n",
        "import pandas as pd\n",
        "from transformers import AutoModelForCausalLM, AutoTokenizer,MBartForConditionalGeneration\n",
        "from transformers import DataCollatorForSeq2Seq\n",
        "import shutil\n",
        "from huggingface_hub import notebook_login\n",
        "from transformers import Seq2SeqTrainingArguments, Seq2SeqTrainer,TrainingArguments, Trainer\n",
        "import gc\n",
        "from transformers import MBartForConditionalGeneration, AutoTokenizer,pipeline"
      ],
      "metadata": {
        "id": "iOCqB8E3KcDW"
      },
      "id": "iOCqB8E3KcDW",
      "execution_count": null,
      "outputs": []
    },
    {
      "cell_type": "markdown",
      "source": [
        "# **Data Preparation**\n",
        "For this task, we'll utilize the \"opus100\" dataset available on Hugging Face. This dataset comprises 753,913 text samples in both English and Urdu. Initially, I convert the data into CSV format for ease of handling since I'm proficient with CSVs. Additionally, I limit the dataset to 6,000 samples (5,000 for training and 1,000 for validation) due to the time required for training the model. Below, I've detailed each of these steps in sequential code."
      ],
      "metadata": {
        "id": "UpFol9I0yK7e"
      },
      "id": "UpFol9I0yK7e"
    },
    {
      "cell_type": "code",
      "source": [
        "dataset = datasets.load_dataset(\"opus100\",'en-ur')"
      ],
      "metadata": {
        "execution": {
          "iopub.status.busy": "2023-08-10T12:57:26.735942Z",
          "iopub.execute_input": "2023-08-10T12:57:26.736622Z",
          "iopub.status.idle": "2023-08-10T12:58:06.860753Z",
          "shell.execute_reply.started": "2023-08-10T12:57:26.736581Z",
          "shell.execute_reply": "2023-08-10T12:58:06.859399Z"
        },
        "trusted": true,
        "id": "NcYV0MI6yK7f"
      },
      "execution_count": null,
      "outputs": [],
      "id": "NcYV0MI6yK7f"
    },
    {
      "cell_type": "code",
      "source": [
        "def save_translation_to_csv(input_dict, output_file):\n",
        "    # Extract English and Urdu texts from the input dictionary\n",
        "    english_text = input_dict['translation']['en']\n",
        "    urdu_text = input_dict['translation']['ur']\n",
        "\n",
        "    # Create a list of dictionaries containing the data to be saved in the CSV file\n",
        "    data = [{'Urdu': urdu_text, 'English': english_text}]\n",
        "\n",
        "    # Define the CSV file headers\n",
        "    fieldnames = ['Urdu', 'English']\n",
        "\n",
        "    # Check if the CSV file already exists\n",
        "    file_exists = os.path.isfile(output_file)\n",
        "\n",
        "    # Write the data to the CSV file\n",
        "    with open(output_file, 'a', newline='', encoding='utf-8') as csvfile:\n",
        "        writer = csv.DictWriter(csvfile, fieldnames=fieldnames)\n",
        "\n",
        "        # Write header only if the file is newly created\n",
        "        if not file_exists:\n",
        "            writer.writeheader()\n",
        "\n",
        "        # Write the data row\n",
        "        writer.writerows(data)\n"
      ],
      "metadata": {
        "execution": {
          "iopub.status.busy": "2023-08-10T13:02:59.469227Z",
          "iopub.execute_input": "2023-08-10T13:02:59.469619Z",
          "iopub.status.idle": "2023-08-10T13:02:59.478125Z",
          "shell.execute_reply.started": "2023-08-10T13:02:59.469587Z",
          "shell.execute_reply": "2023-08-10T13:02:59.476978Z"
        },
        "trusted": true,
        "id": "zJz1mkqIyK7g"
      },
      "execution_count": null,
      "outputs": [],
      "id": "zJz1mkqIyK7g"
    },
    {
      "cell_type": "code",
      "source": [
        "output_csv_file = 'translation.csv'\n",
        "for n in range(6000):\n",
        "   input_text=dataset['train'][n]\n",
        "   save_translation_to_csv(input_text, output_csv_file)"
      ],
      "metadata": {
        "execution": {
          "iopub.status.busy": "2023-08-10T13:05:01.275335Z",
          "iopub.execute_input": "2023-08-10T13:05:01.275732Z",
          "iopub.status.idle": "2023-08-10T13:05:02.069661Z",
          "shell.execute_reply.started": "2023-08-10T13:05:01.275702Z",
          "shell.execute_reply": "2023-08-10T13:05:02.068670Z"
        },
        "trusted": true,
        "id": "CUJli84myK7g"
      },
      "execution_count": null,
      "outputs": [],
      "id": "CUJli84myK7g"
    },
    {
      "cell_type": "markdown",
      "source": [
        "# **Loading Data**\n",
        "Next, we proceed to load the data and prepare it for model input. I've devised five distinct styles of prompts. By \"different styles of prompts,\" I refer to five varied methods of posing questions to the model and receiving answers from it. Considering that users may inquire in diverse manners, I've formulated these five approaches. You can modify the prompts or increase their variety based on the subset of data you're utilizing."
      ],
      "metadata": {
        "id": "RLwmPjdHyK7g"
      },
      "id": "RLwmPjdHyK7g"
    },
    {
      "cell_type": "code",
      "source": [
        "dataset_file1 = '/content/translation.csv'\n",
        "dataset1 = pd.read_csv(dataset_file1)\n"
      ],
      "metadata": {
        "id": "cX1UZ8Iq5vA-",
        "papermill": {
          "duration": 9.887855,
          "end_time": "2023-07-22T16:18:08.648636",
          "exception": false,
          "start_time": "2023-07-22T16:17:58.760781",
          "status": "completed"
        },
        "tags": [],
        "execution": {
          "iopub.status.busy": "2023-08-10T13:11:44.491731Z",
          "iopub.execute_input": "2023-08-10T13:11:44.492129Z",
          "iopub.status.idle": "2023-08-10T13:11:44.544241Z",
          "shell.execute_reply.started": "2023-08-10T13:11:44.492098Z",
          "shell.execute_reply": "2023-08-10T13:11:44.543300Z"
        },
        "trusted": true
      },
      "execution_count": null,
      "outputs": [],
      "id": "cX1UZ8Iq5vA-"
    },
    {
      "cell_type": "code",
      "source": [
        "dataset1"
      ],
      "metadata": {
        "papermill": {
          "duration": 0.018203,
          "end_time": "2023-07-22T16:18:08.677334",
          "exception": false,
          "start_time": "2023-07-22T16:18:08.659131",
          "status": "completed"
        },
        "tags": [],
        "execution": {
          "iopub.status.busy": "2023-08-10T13:11:45.885567Z",
          "iopub.execute_input": "2023-08-10T13:11:45.885953Z",
          "iopub.status.idle": "2023-08-10T13:11:45.915356Z",
          "shell.execute_reply.started": "2023-08-10T13:11:45.885896Z",
          "shell.execute_reply": "2023-08-10T13:11:45.914120Z"
        },
        "trusted": true,
        "colab": {
          "base_uri": "https://localhost:8080/",
          "height": 424
        },
        "id": "HZDP8F9WyK7h",
        "outputId": "39fbfa1d-2020-4afe-d3c4-44dd5883abfa"
      },
      "execution_count": null,
      "outputs": [
        {
          "output_type": "execute_result",
          "data": {
            "text/plain": [
              "                                                    Urdu  \\\n",
              "0      اورجب ہم نے موسیٰ سے چالیس رات کا وعدہ کیا پھر...   \n",
              "1      بجز تیرے اُن بندوں کے جنہیں تو نے خالص کر لیا ہے\"   \n",
              "2      (اے پیغمبر لوگوں سے) کہہ دو کہ میرے پاس وحی آئ...   \n",
              "3                   ہم عنقریب اس کی ناک پر داغ لگائیں گے   \n",
              "4      اور جو لوگ مومن مردوں اور عورتوں کو بے قصور اذ...   \n",
              "...                                                  ...   \n",
              "11995  اور ہم نے انہیں بانٹ دیا بارہ قبیلے گروہ گروہ،...   \n",
              "11996  جو تمہارا بھی پروردگار ہے اور تمہارے پہلے والے...   \n",
              "11997  تاکہ وہ اس کے پھل کھائیں اور اسے اُن کے ہاتھوں...   \n",
              "11998  اتنے میں شہر کے دُور دراز گوشے سے ایک شخص دوڑت...   \n",
              "11999         تمام جہانوں کے ربّ کی طرف سے اتارا گیا ہے،   \n",
              "\n",
              "                                                 English  \n",
              "0      Yet, remember, as We communed with Moses for f...  \n",
              "1             Except, among them, Your chosen servants.\"  \n",
              "2      Say, (O Prophet), it was revealed to me that a...  \n",
              "3                  Soon We shall brand him on his snout.  \n",
              "4      And those who unnecessarily harass Muslim men ...  \n",
              "...                                                  ...  \n",
              "11995  We divided them into twelve tribal communities...  \n",
              "11996  who is your Lord and the Lord of your forefath...  \n",
              "11997  So that they may eat of its fruit; yet it was ...  \n",
              "11998  Then there came running, from the farthest par...  \n",
              "11999  It is a revelation sent down from the Lord of ...  \n",
              "\n",
              "[12000 rows x 2 columns]"
            ],
            "text/html": [
              "\n",
              "  <div id=\"df-b0acacf8-434f-4db2-89c4-db0ebd5b0798\" class=\"colab-df-container\">\n",
              "    <div>\n",
              "<style scoped>\n",
              "    .dataframe tbody tr th:only-of-type {\n",
              "        vertical-align: middle;\n",
              "    }\n",
              "\n",
              "    .dataframe tbody tr th {\n",
              "        vertical-align: top;\n",
              "    }\n",
              "\n",
              "    .dataframe thead th {\n",
              "        text-align: right;\n",
              "    }\n",
              "</style>\n",
              "<table border=\"1\" class=\"dataframe\">\n",
              "  <thead>\n",
              "    <tr style=\"text-align: right;\">\n",
              "      <th></th>\n",
              "      <th>Urdu</th>\n",
              "      <th>English</th>\n",
              "    </tr>\n",
              "  </thead>\n",
              "  <tbody>\n",
              "    <tr>\n",
              "      <th>0</th>\n",
              "      <td>اورجب ہم نے موسیٰ سے چالیس رات کا وعدہ کیا پھر...</td>\n",
              "      <td>Yet, remember, as We communed with Moses for f...</td>\n",
              "    </tr>\n",
              "    <tr>\n",
              "      <th>1</th>\n",
              "      <td>بجز تیرے اُن بندوں کے جنہیں تو نے خالص کر لیا ہے\"</td>\n",
              "      <td>Except, among them, Your chosen servants.\"</td>\n",
              "    </tr>\n",
              "    <tr>\n",
              "      <th>2</th>\n",
              "      <td>(اے پیغمبر لوگوں سے) کہہ دو کہ میرے پاس وحی آئ...</td>\n",
              "      <td>Say, (O Prophet), it was revealed to me that a...</td>\n",
              "    </tr>\n",
              "    <tr>\n",
              "      <th>3</th>\n",
              "      <td>ہم عنقریب اس کی ناک پر داغ لگائیں گے</td>\n",
              "      <td>Soon We shall brand him on his snout.</td>\n",
              "    </tr>\n",
              "    <tr>\n",
              "      <th>4</th>\n",
              "      <td>اور جو لوگ مومن مردوں اور عورتوں کو بے قصور اذ...</td>\n",
              "      <td>And those who unnecessarily harass Muslim men ...</td>\n",
              "    </tr>\n",
              "    <tr>\n",
              "      <th>...</th>\n",
              "      <td>...</td>\n",
              "      <td>...</td>\n",
              "    </tr>\n",
              "    <tr>\n",
              "      <th>11995</th>\n",
              "      <td>اور ہم نے انہیں بانٹ دیا بارہ قبیلے گروہ گروہ،...</td>\n",
              "      <td>We divided them into twelve tribal communities...</td>\n",
              "    </tr>\n",
              "    <tr>\n",
              "      <th>11996</th>\n",
              "      <td>جو تمہارا بھی پروردگار ہے اور تمہارے پہلے والے...</td>\n",
              "      <td>who is your Lord and the Lord of your forefath...</td>\n",
              "    </tr>\n",
              "    <tr>\n",
              "      <th>11997</th>\n",
              "      <td>تاکہ وہ اس کے پھل کھائیں اور اسے اُن کے ہاتھوں...</td>\n",
              "      <td>So that they may eat of its fruit; yet it was ...</td>\n",
              "    </tr>\n",
              "    <tr>\n",
              "      <th>11998</th>\n",
              "      <td>اتنے میں شہر کے دُور دراز گوشے سے ایک شخص دوڑت...</td>\n",
              "      <td>Then there came running, from the farthest par...</td>\n",
              "    </tr>\n",
              "    <tr>\n",
              "      <th>11999</th>\n",
              "      <td>تمام جہانوں کے ربّ کی طرف سے اتارا گیا ہے،</td>\n",
              "      <td>It is a revelation sent down from the Lord of ...</td>\n",
              "    </tr>\n",
              "  </tbody>\n",
              "</table>\n",
              "<p>12000 rows × 2 columns</p>\n",
              "</div>\n",
              "    <div class=\"colab-df-buttons\">\n",
              "\n",
              "  <div class=\"colab-df-container\">\n",
              "    <button class=\"colab-df-convert\" onclick=\"convertToInteractive('df-b0acacf8-434f-4db2-89c4-db0ebd5b0798')\"\n",
              "            title=\"Convert this dataframe to an interactive table.\"\n",
              "            style=\"display:none;\">\n",
              "\n",
              "  <svg xmlns=\"http://www.w3.org/2000/svg\" height=\"24px\" viewBox=\"0 -960 960 960\">\n",
              "    <path d=\"M120-120v-720h720v720H120Zm60-500h600v-160H180v160Zm220 220h160v-160H400v160Zm0 220h160v-160H400v160ZM180-400h160v-160H180v160Zm440 0h160v-160H620v160ZM180-180h160v-160H180v160Zm440 0h160v-160H620v160Z\"/>\n",
              "  </svg>\n",
              "    </button>\n",
              "\n",
              "  <style>\n",
              "    .colab-df-container {\n",
              "      display:flex;\n",
              "      gap: 12px;\n",
              "    }\n",
              "\n",
              "    .colab-df-convert {\n",
              "      background-color: #E8F0FE;\n",
              "      border: none;\n",
              "      border-radius: 50%;\n",
              "      cursor: pointer;\n",
              "      display: none;\n",
              "      fill: #1967D2;\n",
              "      height: 32px;\n",
              "      padding: 0 0 0 0;\n",
              "      width: 32px;\n",
              "    }\n",
              "\n",
              "    .colab-df-convert:hover {\n",
              "      background-color: #E2EBFA;\n",
              "      box-shadow: 0px 1px 2px rgba(60, 64, 67, 0.3), 0px 1px 3px 1px rgba(60, 64, 67, 0.15);\n",
              "      fill: #174EA6;\n",
              "    }\n",
              "\n",
              "    .colab-df-buttons div {\n",
              "      margin-bottom: 4px;\n",
              "    }\n",
              "\n",
              "    [theme=dark] .colab-df-convert {\n",
              "      background-color: #3B4455;\n",
              "      fill: #D2E3FC;\n",
              "    }\n",
              "\n",
              "    [theme=dark] .colab-df-convert:hover {\n",
              "      background-color: #434B5C;\n",
              "      box-shadow: 0px 1px 3px 1px rgba(0, 0, 0, 0.15);\n",
              "      filter: drop-shadow(0px 1px 2px rgba(0, 0, 0, 0.3));\n",
              "      fill: #FFFFFF;\n",
              "    }\n",
              "  </style>\n",
              "\n",
              "    <script>\n",
              "      const buttonEl =\n",
              "        document.querySelector('#df-b0acacf8-434f-4db2-89c4-db0ebd5b0798 button.colab-df-convert');\n",
              "      buttonEl.style.display =\n",
              "        google.colab.kernel.accessAllowed ? 'block' : 'none';\n",
              "\n",
              "      async function convertToInteractive(key) {\n",
              "        const element = document.querySelector('#df-b0acacf8-434f-4db2-89c4-db0ebd5b0798');\n",
              "        const dataTable =\n",
              "          await google.colab.kernel.invokeFunction('convertToInteractive',\n",
              "                                                    [key], {});\n",
              "        if (!dataTable) return;\n",
              "\n",
              "        const docLinkHtml = 'Like what you see? Visit the ' +\n",
              "          '<a target=\"_blank\" href=https://colab.research.google.com/notebooks/data_table.ipynb>data table notebook</a>'\n",
              "          + ' to learn more about interactive tables.';\n",
              "        element.innerHTML = '';\n",
              "        dataTable['output_type'] = 'display_data';\n",
              "        await google.colab.output.renderOutput(dataTable, element);\n",
              "        const docLink = document.createElement('div');\n",
              "        docLink.innerHTML = docLinkHtml;\n",
              "        element.appendChild(docLink);\n",
              "      }\n",
              "    </script>\n",
              "  </div>\n",
              "\n",
              "\n",
              "<div id=\"df-30c32331-07c6-49ba-9932-885324632483\">\n",
              "  <button class=\"colab-df-quickchart\" onclick=\"quickchart('df-30c32331-07c6-49ba-9932-885324632483')\"\n",
              "            title=\"Suggest charts\"\n",
              "            style=\"display:none;\">\n",
              "\n",
              "<svg xmlns=\"http://www.w3.org/2000/svg\" height=\"24px\"viewBox=\"0 0 24 24\"\n",
              "     width=\"24px\">\n",
              "    <g>\n",
              "        <path d=\"M19 3H5c-1.1 0-2 .9-2 2v14c0 1.1.9 2 2 2h14c1.1 0 2-.9 2-2V5c0-1.1-.9-2-2-2zM9 17H7v-7h2v7zm4 0h-2V7h2v10zm4 0h-2v-4h2v4z\"/>\n",
              "    </g>\n",
              "</svg>\n",
              "  </button>\n",
              "\n",
              "<style>\n",
              "  .colab-df-quickchart {\n",
              "      --bg-color: #E8F0FE;\n",
              "      --fill-color: #1967D2;\n",
              "      --hover-bg-color: #E2EBFA;\n",
              "      --hover-fill-color: #174EA6;\n",
              "      --disabled-fill-color: #AAA;\n",
              "      --disabled-bg-color: #DDD;\n",
              "  }\n",
              "\n",
              "  [theme=dark] .colab-df-quickchart {\n",
              "      --bg-color: #3B4455;\n",
              "      --fill-color: #D2E3FC;\n",
              "      --hover-bg-color: #434B5C;\n",
              "      --hover-fill-color: #FFFFFF;\n",
              "      --disabled-bg-color: #3B4455;\n",
              "      --disabled-fill-color: #666;\n",
              "  }\n",
              "\n",
              "  .colab-df-quickchart {\n",
              "    background-color: var(--bg-color);\n",
              "    border: none;\n",
              "    border-radius: 50%;\n",
              "    cursor: pointer;\n",
              "    display: none;\n",
              "    fill: var(--fill-color);\n",
              "    height: 32px;\n",
              "    padding: 0;\n",
              "    width: 32px;\n",
              "  }\n",
              "\n",
              "  .colab-df-quickchart:hover {\n",
              "    background-color: var(--hover-bg-color);\n",
              "    box-shadow: 0 1px 2px rgba(60, 64, 67, 0.3), 0 1px 3px 1px rgba(60, 64, 67, 0.15);\n",
              "    fill: var(--button-hover-fill-color);\n",
              "  }\n",
              "\n",
              "  .colab-df-quickchart-complete:disabled,\n",
              "  .colab-df-quickchart-complete:disabled:hover {\n",
              "    background-color: var(--disabled-bg-color);\n",
              "    fill: var(--disabled-fill-color);\n",
              "    box-shadow: none;\n",
              "  }\n",
              "\n",
              "  .colab-df-spinner {\n",
              "    border: 2px solid var(--fill-color);\n",
              "    border-color: transparent;\n",
              "    border-bottom-color: var(--fill-color);\n",
              "    animation:\n",
              "      spin 1s steps(1) infinite;\n",
              "  }\n",
              "\n",
              "  @keyframes spin {\n",
              "    0% {\n",
              "      border-color: transparent;\n",
              "      border-bottom-color: var(--fill-color);\n",
              "      border-left-color: var(--fill-color);\n",
              "    }\n",
              "    20% {\n",
              "      border-color: transparent;\n",
              "      border-left-color: var(--fill-color);\n",
              "      border-top-color: var(--fill-color);\n",
              "    }\n",
              "    30% {\n",
              "      border-color: transparent;\n",
              "      border-left-color: var(--fill-color);\n",
              "      border-top-color: var(--fill-color);\n",
              "      border-right-color: var(--fill-color);\n",
              "    }\n",
              "    40% {\n",
              "      border-color: transparent;\n",
              "      border-right-color: var(--fill-color);\n",
              "      border-top-color: var(--fill-color);\n",
              "    }\n",
              "    60% {\n",
              "      border-color: transparent;\n",
              "      border-right-color: var(--fill-color);\n",
              "    }\n",
              "    80% {\n",
              "      border-color: transparent;\n",
              "      border-right-color: var(--fill-color);\n",
              "      border-bottom-color: var(--fill-color);\n",
              "    }\n",
              "    90% {\n",
              "      border-color: transparent;\n",
              "      border-bottom-color: var(--fill-color);\n",
              "    }\n",
              "  }\n",
              "</style>\n",
              "\n",
              "  <script>\n",
              "    async function quickchart(key) {\n",
              "      const quickchartButtonEl =\n",
              "        document.querySelector('#' + key + ' button');\n",
              "      quickchartButtonEl.disabled = true;  // To prevent multiple clicks.\n",
              "      quickchartButtonEl.classList.add('colab-df-spinner');\n",
              "      try {\n",
              "        const charts = await google.colab.kernel.invokeFunction(\n",
              "            'suggestCharts', [key], {});\n",
              "      } catch (error) {\n",
              "        console.error('Error during call to suggestCharts:', error);\n",
              "      }\n",
              "      quickchartButtonEl.classList.remove('colab-df-spinner');\n",
              "      quickchartButtonEl.classList.add('colab-df-quickchart-complete');\n",
              "    }\n",
              "    (() => {\n",
              "      let quickchartButtonEl =\n",
              "        document.querySelector('#df-30c32331-07c6-49ba-9932-885324632483 button');\n",
              "      quickchartButtonEl.style.display =\n",
              "        google.colab.kernel.accessAllowed ? 'block' : 'none';\n",
              "    })();\n",
              "  </script>\n",
              "</div>\n",
              "    </div>\n",
              "  </div>\n"
            ],
            "application/vnd.google.colaboratory.intrinsic+json": {
              "type": "dataframe",
              "variable_name": "dataset1",
              "summary": "{\n  \"name\": \"dataset1\",\n  \"rows\": 12000,\n  \"fields\": [\n    {\n      \"column\": \"Urdu\",\n      \"properties\": {\n        \"dtype\": \"category\",\n        \"num_unique_values\": 5671,\n        \"samples\": [\n          \"\\u0627\\u0648\\u0631 \\u06cc\\u06c1 \\u06a9\\u06c1 \\u0628\\u06cc\\u0634\\u06a9 \\u0627\\u0633 \\u06a9\\u06cc \\u06a9\\u0648\\u0634\\u0634 \\u0639\\u0646\\u0642\\u0631\\u06cc\\u0628 \\u062f\\u06cc\\u06a9\\u06be\\u06cc \\u062c\\u0627\\u0626\\u06d2 \\u06af\\u06cc\",\n          \"\\u0627\\u0648\\u0631 \\u0627\\u06af\\u0631 \\u062a\\u0645 \\u0646\\u06c1\\u06cc\\u06ba\\u061f\",\n          \"\\u067e\\u06be\\u0631 \\u0634\\u06c1\\u0631 \\u0645\\u06cc\\u06ba \\u0688\\u0631\\u062a\\u0627 \\u0627\\u0646\\u062a\\u0638\\u0627\\u0631 \\u06a9\\u0631\\u062a\\u0627 \\u06c1\\u0648\\u0627 \\u0635\\u0628\\u062d \\u06a9\\u0648 \\u06af\\u06cc\\u0627 \\u067e\\u06be\\u0631 \\u0648\\u06c1\\u06cc \\u0634\\u062e\\u0635 \\u062c\\u0633 \\u0646\\u06d2 \\u06a9\\u0644 \\u0627\\u0633 \\u0633\\u06d2 \\u0645\\u062f\\u062f \\u0645\\u0627\\u0646\\u06af\\u06cc \\u062a\\u06be\\u06cc \\u0627\\u0633\\u06d2 \\u067e\\u06a9\\u0627\\u0631 \\u0631\\u06c1\\u0627 \\u06c1\\u06d2 \\u0645\\u0648\\u0633\\u06cc\\u0670 \\u0646\\u06d2 \\u0627\\u0633 \\u0633\\u06d2 \\u06a9\\u06c1\\u0627 \\u06a9\\u06c1 \\u0628\\u06d2 \\u0634\\u06a9 \\u062a\\u0648 \\u0635\\u0631\\u06cc\\u062d \\u06af\\u0645\\u0631\\u0627\\u06c1 \\u06c1\\u06d2\"\n        ],\n        \"semantic_type\": \"\",\n        \"description\": \"\"\n      }\n    },\n    {\n      \"column\": \"English\",\n      \"properties\": {\n        \"dtype\": \"category\",\n        \"num_unique_values\": 5823,\n        \"samples\": [\n          \"I swear by your Lord that they will not be considered believers until they let you judge their disputes and then they will find nothing in their souls to prevent them from accepting your judgment, thus, submitting themselves to the will of God.\",\n          \"Whoever brings a good deed \\u2013 for him is a reward better than it; and they will be safe from the terror on that Day.\",\n          \"they are joyful because of what God has bestowed on them of His grace and they rejoice that those they left behind, who have not yet joined them, that they shall have no fear, nor shall they grieve;\"\n        ],\n        \"semantic_type\": \"\",\n        \"description\": \"\"\n      }\n    }\n  ]\n}"
            }
          },
          "metadata": {},
          "execution_count": 68
        }
      ],
      "id": "HZDP8F9WyK7h"
    },
    {
      "cell_type": "code",
      "source": [
        "train_dataset=dataset1[:100]\n",
        "val_dataset=dataset1[100:200]"
      ],
      "metadata": {
        "execution": {
          "iopub.status.busy": "2023-08-10T13:12:07.943829Z",
          "iopub.execute_input": "2023-08-10T13:12:07.944384Z",
          "iopub.status.idle": "2023-08-10T13:12:07.951005Z",
          "shell.execute_reply.started": "2023-08-10T13:12:07.944342Z",
          "shell.execute_reply": "2023-08-10T13:12:07.949319Z"
        },
        "trusted": true,
        "id": "k5YgfR37yK7h"
      },
      "execution_count": null,
      "outputs": [],
      "id": "k5YgfR37yK7h"
    },
    {
      "cell_type": "code",
      "source": [
        "val_dataset.shape"
      ],
      "metadata": {
        "execution": {
          "iopub.status.busy": "2023-08-10T13:12:09.090196Z",
          "iopub.execute_input": "2023-08-10T13:12:09.090633Z",
          "iopub.status.idle": "2023-08-10T13:12:09.099245Z",
          "shell.execute_reply.started": "2023-08-10T13:12:09.090597Z",
          "shell.execute_reply": "2023-08-10T13:12:09.098156Z"
        },
        "trusted": true,
        "colab": {
          "base_uri": "https://localhost:8080/"
        },
        "id": "Hld7bsgwyK7h",
        "outputId": "32c51448-6df1-43b6-a3cc-a338a0b36921"
      },
      "execution_count": null,
      "outputs": [
        {
          "output_type": "execute_result",
          "data": {
            "text/plain": [
              "(100, 2)"
            ]
          },
          "metadata": {},
          "execution_count": 70
        }
      ],
      "id": "Hld7bsgwyK7h"
    },
    {
      "cell_type": "markdown",
      "source": [
        "Here we are dividing the 500 train samples into 5 parts 100 samples for a single type of prompt"
      ],
      "metadata": {
        "id": "N-dIjj6JyK7h"
      },
      "id": "N-dIjj6JyK7h"
    },
    {
      "cell_type": "code",
      "source": [
        "data1=train_dataset[:20]\n",
        "data2=train_dataset[20:40]\n",
        "data3=train_dataset[40:60]\n",
        "data4=train_dataset[60:80]\n",
        "data5=train_dataset[80:100]"
      ],
      "metadata": {
        "execution": {
          "iopub.status.busy": "2023-08-10T13:12:57.874893Z",
          "iopub.execute_input": "2023-08-10T13:12:57.875300Z",
          "iopub.status.idle": "2023-08-10T13:12:57.882618Z",
          "shell.execute_reply.started": "2023-08-10T13:12:57.875269Z",
          "shell.execute_reply": "2023-08-10T13:12:57.881627Z"
        },
        "trusted": true,
        "id": "cQG1eT7byK7h"
      },
      "execution_count": null,
      "outputs": [],
      "id": "cQG1eT7byK7h"
    },
    {
      "cell_type": "markdown",
      "source": [
        "Here i am creating a different dataset object and filling it by creating a prompt along with the data.Here engtext colomn is the source colomn and urdutext colomn is the target colomn"
      ],
      "metadata": {
        "id": "rPQLOo1YyK7h"
      },
      "id": "rPQLOo1YyK7h"
    },
    {
      "cell_type": "code",
      "source": [
        "train_dataset1 = pd.DataFrame()\n",
        "train_dataset1['engtext'] ='Can you translate \"' + data1['English'] + '\" into urdu ?'\n",
        "train_dataset1['urdutext'] = 'Yes sure here is the urdu translation \"' + data1['Urdu'] + '\".'\n",
        "\n",
        "train_dataset2 = pd.DataFrame()\n",
        "train_dataset2['engtext'] = 'Please Translate \"' + data2['English'] + '\" to urdu.'\n",
        "train_dataset2['urdutext'] = 'Okey the translation into urdu is \"' + data2['Urdu'] + '\". I hope this will help.'\n",
        "\n",
        "train_dataset3 = pd.DataFrame()\n",
        "train_dataset3['engtext'] = 'Please Translate \"' + data3['English'] + '\" to urdu.'\n",
        "train_dataset3['urdutext'] = \"Yeah sure i can help you with that here is the translation in Urdu : \" + data3['Urdu'] + '.'\n",
        "\n",
        "train_dataset4 = pd.DataFrame()\n",
        "train_dataset4['engtext'] = 'Can you translate \"' + data4['English'] + '\" into urdu ?'\n",
        "train_dataset4['urdutext'] = 'Yes, the translation of \"' + data4['English'] + '\" to Urdu is : \"' + data4['Urdu'] + '\".'\n",
        "\n",
        "train_dataset5 = pd.DataFrame()\n",
        "train_dataset5['engtext'] = 'Translate English text to Urdu. Here is the text :\"' + data5['English'] + '\".'\n",
        "train_dataset5['urdutext'] = 'Sure, the translation of your given text to Urdu is : \"' + data5['Urdu'] + '\".'\n",
        "\n",
        "appended_dataframe = pd.concat([train_dataset1, train_dataset2, train_dataset3, train_dataset4, train_dataset5], ignore_index=True)\n",
        "\n",
        "train_data = Dataset.from_pandas(appended_dataframe)\n",
        "train_data"
      ],
      "metadata": {
        "papermill": {
          "duration": 0.065444,
          "end_time": "2023-07-22T16:18:08.752575",
          "exception": false,
          "start_time": "2023-07-22T16:18:08.687131",
          "status": "completed"
        },
        "tags": [],
        "execution": {
          "iopub.status.busy": "2023-08-10T13:15:06.957209Z",
          "iopub.execute_input": "2023-08-10T13:15:06.957637Z",
          "iopub.status.idle": "2023-08-10T13:15:07.012419Z",
          "shell.execute_reply.started": "2023-08-10T13:15:06.957602Z",
          "shell.execute_reply": "2023-08-10T13:15:07.011437Z"
        },
        "trusted": true,
        "colab": {
          "base_uri": "https://localhost:8080/"
        },
        "id": "IZa0uppfyK7h",
        "outputId": "27ac7a09-7d8b-47e0-8a4e-1bc0f3a3ea90"
      },
      "execution_count": null,
      "outputs": [
        {
          "output_type": "execute_result",
          "data": {
            "text/plain": [
              "Dataset({\n",
              "    features: ['engtext', 'urdutext'],\n",
              "    num_rows: 100\n",
              "})"
            ]
          },
          "metadata": {},
          "execution_count": 72
        }
      ],
      "id": "IZa0uppfyK7h"
    },
    {
      "cell_type": "code",
      "source": [
        "train_data['engtext'][4]"
      ],
      "metadata": {
        "execution": {
          "iopub.status.busy": "2023-08-10T13:15:13.332718Z",
          "iopub.execute_input": "2023-08-10T13:15:13.333407Z",
          "iopub.status.idle": "2023-08-10T13:15:13.351677Z",
          "shell.execute_reply.started": "2023-08-10T13:15:13.333367Z",
          "shell.execute_reply": "2023-08-10T13:15:13.350134Z"
        },
        "trusted": true,
        "colab": {
          "base_uri": "https://localhost:8080/",
          "height": 53
        },
        "id": "-0H_L0HAyK7h",
        "outputId": "5582ce44-8460-4714-f70d-5b8c2eb6f1cb"
      },
      "execution_count": null,
      "outputs": [
        {
          "output_type": "execute_result",
          "data": {
            "text/plain": [
              "'Can you translate \"And those who unnecessarily harass Muslim men and women, have burdened themselves with slander and open sin.\" into urdu ?'"
            ],
            "application/vnd.google.colaboratory.intrinsic+json": {
              "type": "string"
            }
          },
          "metadata": {},
          "execution_count": 73
        }
      ],
      "id": "-0H_L0HAyK7h"
    },
    {
      "cell_type": "code",
      "source": [
        "train_data['urdutext'][4]"
      ],
      "metadata": {
        "execution": {
          "iopub.status.busy": "2023-08-10T13:15:14.548362Z",
          "iopub.execute_input": "2023-08-10T13:15:14.548713Z",
          "iopub.status.idle": "2023-08-10T13:15:14.568731Z",
          "shell.execute_reply.started": "2023-08-10T13:15:14.548683Z",
          "shell.execute_reply": "2023-08-10T13:15:14.567481Z"
        },
        "trusted": true,
        "colab": {
          "base_uri": "https://localhost:8080/",
          "height": 53
        },
        "id": "boeZBzQ8yK7h",
        "outputId": "3f2168a4-5282-4667-92d1-bbb0f5f51bc9"
      },
      "execution_count": null,
      "outputs": [
        {
          "output_type": "execute_result",
          "data": {
            "text/plain": [
              "'Yes sure here is the urdu translation \"اور جو لوگ مومن مردوں اور عورتوں کو بے قصور اذیت دیتے ہیں اُنہوں نے ایک بڑے بہتان اور صریح گناہ کا وبال اپنے سر لے لیا ہے\".'"
            ],
            "application/vnd.google.colaboratory.intrinsic+json": {
              "type": "string"
            }
          },
          "metadata": {},
          "execution_count": 74
        }
      ],
      "id": "boeZBzQ8yK7h"
    },
    {
      "cell_type": "code",
      "source": [
        "data1=val_dataset[:20]\n",
        "data2=val_dataset[20:40]\n",
        "data3=val_dataset[40:60]\n",
        "data4=val_dataset[60:80]\n",
        "data5=val_dataset[80:100]"
      ],
      "metadata": {
        "execution": {
          "iopub.status.busy": "2023-08-10T13:15:59.240698Z",
          "iopub.execute_input": "2023-08-10T13:15:59.241131Z",
          "iopub.status.idle": "2023-08-10T13:15:59.248032Z",
          "shell.execute_reply.started": "2023-08-10T13:15:59.241097Z",
          "shell.execute_reply": "2023-08-10T13:15:59.246904Z"
        },
        "trusted": true,
        "id": "xN_JXZ79yK7i"
      },
      "execution_count": null,
      "outputs": [],
      "id": "xN_JXZ79yK7i"
    },
    {
      "cell_type": "code",
      "source": [
        "val_dataset1 = pd.DataFrame()\n",
        "val_dataset1['engtext'] ='Can you translate \"' + data1['English'] + '\" into urdu ?'\n",
        "val_dataset1['urdutext'] = 'Yes sure here is the urdu translation \"' + data1['Urdu'] + '\".'\n",
        "\n",
        "val_dataset2 = pd.DataFrame()\n",
        "val_dataset2['engtext'] = 'Please Translate \"' + data2['English'] + '\" to urdu.'\n",
        "val_dataset2['urdutext'] = 'Okey the translation into urdu is \"' + data2['Urdu'] + '\". I hope this will help.'\n",
        "\n",
        "val_dataset3 = pd.DataFrame()\n",
        "val_dataset3['engtext'] = 'Please Translate \"' + data3['English'] + '\" to urdu.'\n",
        "val_dataset3['urdutext'] = \"Yeah sure i can help you with that here is the translation in Urdu : \" + data3['Urdu'] + '.'\n",
        "\n",
        "val_dataset4 = pd.DataFrame()\n",
        "val_dataset4['engtext'] = 'Can you translate \"' + data4['English'] + '\" into urdu ?'\n",
        "val_dataset4['urdutext'] = 'Yes, the translation of \"' + data4['English'] + '\" to Urdu is : \"' + data4['Urdu'] + '\".'\n",
        "\n",
        "val_dataset5 = pd.DataFrame()\n",
        "val_dataset5['engtext'] = 'Translate English text to Urdu. Here is the text :\"' + data5['English'] + '\".'\n",
        "val_dataset5['urdutext'] = 'Sure, the translation of your given text to Urdu is : \"' + data5['Urdu'] + '\".'\n",
        "\n",
        "appended_dataframe = pd.concat([val_dataset1, val_dataset2, val_dataset3, val_dataset4, val_dataset5], ignore_index=True)\n",
        "\n",
        "val_data = Dataset.from_pandas(appended_dataframe)\n",
        "val_data\n"
      ],
      "metadata": {
        "execution": {
          "iopub.status.busy": "2023-08-10T13:16:01.519018Z",
          "iopub.execute_input": "2023-08-10T13:16:01.520200Z",
          "iopub.status.idle": "2023-08-10T13:16:01.557016Z",
          "shell.execute_reply.started": "2023-08-10T13:16:01.520156Z",
          "shell.execute_reply": "2023-08-10T13:16:01.555520Z"
        },
        "trusted": true,
        "colab": {
          "base_uri": "https://localhost:8080/"
        },
        "id": "cdfJGTOkyK7i",
        "outputId": "4bd29bae-6bbb-4b6a-bcb6-5f36092a2182"
      },
      "execution_count": null,
      "outputs": [
        {
          "output_type": "execute_result",
          "data": {
            "text/plain": [
              "Dataset({\n",
              "    features: ['engtext', 'urdutext'],\n",
              "    num_rows: 100\n",
              "})"
            ]
          },
          "metadata": {},
          "execution_count": 76
        }
      ],
      "id": "cdfJGTOkyK7i"
    },
    {
      "cell_type": "code",
      "source": [
        "val_data['engtext'][4]"
      ],
      "metadata": {
        "execution": {
          "iopub.status.busy": "2023-08-10T13:16:29.647542Z",
          "iopub.execute_input": "2023-08-10T13:16:29.647931Z",
          "iopub.status.idle": "2023-08-10T13:16:29.657429Z",
          "shell.execute_reply.started": "2023-08-10T13:16:29.647882Z",
          "shell.execute_reply": "2023-08-10T13:16:29.656363Z"
        },
        "trusted": true,
        "colab": {
          "base_uri": "https://localhost:8080/",
          "height": 53
        },
        "id": "ySqHkC55yK7i",
        "outputId": "77bcf98c-8e2c-4256-fd63-bf7160ef6b44"
      },
      "execution_count": null,
      "outputs": [
        {
          "output_type": "execute_result",
          "data": {
            "text/plain": [
              "'Can you translate \"On that day they follow the summoner who deceiveth not, and voices are hushed for the Beneficent, and thou hearest but a faint murmur.\" into urdu ?'"
            ],
            "application/vnd.google.colaboratory.intrinsic+json": {
              "type": "string"
            }
          },
          "metadata": {},
          "execution_count": 77
        }
      ],
      "id": "ySqHkC55yK7i"
    },
    {
      "cell_type": "code",
      "source": [
        "val_data['urdutext'][4]"
      ],
      "metadata": {
        "execution": {
          "iopub.status.busy": "2023-08-10T13:16:38.301949Z",
          "iopub.execute_input": "2023-08-10T13:16:38.302509Z",
          "iopub.status.idle": "2023-08-10T13:16:38.314873Z",
          "shell.execute_reply.started": "2023-08-10T13:16:38.302466Z",
          "shell.execute_reply": "2023-08-10T13:16:38.313647Z"
        },
        "trusted": true,
        "colab": {
          "base_uri": "https://localhost:8080/",
          "height": 53
        },
        "id": "U1O-AOJSyK7i",
        "outputId": "b9682763-73c5-417a-ff8e-c59e364bccd8"
      },
      "execution_count": null,
      "outputs": [
        {
          "output_type": "execute_result",
          "data": {
            "text/plain": [
              "'Yes sure here is the urdu translation \"اس دن پکارےنے والے کا اتباع کریں گے اس میں کوئی کجی نہیں ہوگی اور رحمان کے ڈر سے آوازیں دب جائیں گی پھر تو پاؤں کی آہٹ کے سوا کچھ نہیں سنے گا\".'"
            ],
            "application/vnd.google.colaboratory.intrinsic+json": {
              "type": "string"
            }
          },
          "metadata": {},
          "execution_count": 78
        }
      ],
      "id": "U1O-AOJSyK7i"
    },
    {
      "cell_type": "markdown",
      "source": [
        "# **Loading the model**"
      ],
      "metadata": {
        "id": "vynozSO3yK7i"
      },
      "id": "vynozSO3yK7i"
    },
    {
      "cell_type": "code",
      "source": [
        "model_ckpt = \"facebook/mbart-large-50\"\n",
        "tokenizer = AutoTokenizer.from_pretrained(model_ckpt)\n",
        "model = MBartForConditionalGeneration.from_pretrained(model_ckpt)"
      ],
      "metadata": {
        "id": "J9vW5HkWbCFG",
        "papermill": {
          "duration": 42.282454,
          "end_time": "2023-07-22T16:18:51.083744",
          "exception": false,
          "start_time": "2023-07-22T16:18:08.801290",
          "status": "completed"
        },
        "tags": [],
        "execution": {
          "iopub.status.busy": "2023-08-10T13:17:16.647105Z",
          "iopub.execute_input": "2023-08-10T13:17:16.647471Z",
          "iopub.status.idle": "2023-08-10T13:18:21.435173Z",
          "shell.execute_reply.started": "2023-08-10T13:17:16.647440Z",
          "shell.execute_reply": "2023-08-10T13:18:21.434183Z"
        },
        "trusted": true
      },
      "execution_count": null,
      "outputs": [],
      "id": "J9vW5HkWbCFG"
    },
    {
      "cell_type": "markdown",
      "source": [
        "We're about to craft a function tasked with transforming the text data into input IDs and labels. Since computers comprehend numbers rather than text, we must convert the text into numerical representations. To accomplish this, we'll employ the mbart tokenizer. The maximum length is set to 1024, aligning with the maximum number of tokens mbart can process in one go."
      ],
      "metadata": {
        "id": "R05cAuLMyK7i"
      },
      "id": "R05cAuLMyK7i"
    },
    {
      "cell_type": "code",
      "source": [
        "def convert_examples_to_features(example_batch):\n",
        "    input_encodings = tokenizer(example_batch[\"engtext\"], max_length=1024, padding=\"max_length\",truncation=True)\n",
        "\n",
        "    #with tokenizer.as_target_tokenizer():\n",
        "    target_encodings = tokenizer(example_batch[\"urdutext\"], max_length=1024, padding=\"max_length\", truncation=True)\n",
        "\n",
        "    return {\"input_ids\": input_encodings[\"input_ids\"],\n",
        "           \"attention_mask\": input_encodings[\"attention_mask\"],\n",
        "           \"labels\": target_encodings[\"input_ids\"]}\n",
        "\n",
        "train_dataset_tf = train_data.map(convert_examples_to_features, batched=True, remove_columns=[\"engtext\",\"urdutext\"])\n",
        "val_dataset_tf = val_data.map(convert_examples_to_features, batched=True, remove_columns=[\"engtext\",\"urdutext\"])"
      ],
      "metadata": {
        "id": "JXh-z_D-bj2t",
        "outputId": "e4d43c5f-841f-4848-8ad0-509922176d64",
        "papermill": {
          "duration": 0.840561,
          "end_time": "2023-07-22T16:18:51.999940",
          "exception": false,
          "start_time": "2023-07-22T16:18:51.159379",
          "status": "completed"
        },
        "tags": [],
        "execution": {
          "iopub.status.busy": "2023-08-10T13:18:21.437233Z",
          "iopub.execute_input": "2023-08-10T13:18:21.437830Z",
          "iopub.status.idle": "2023-08-10T13:18:27.725421Z",
          "shell.execute_reply.started": "2023-08-10T13:18:21.437794Z",
          "shell.execute_reply": "2023-08-10T13:18:27.724293Z"
        },
        "trusted": true,
        "colab": {
          "base_uri": "https://localhost:8080/",
          "height": 81,
          "referenced_widgets": [
            "dd6d6550b09e4ddab4a7de2ae7154987",
            "37b7c843d8804445a58863c4ee06d68e",
            "1d747978276f481c998d029be097d19a",
            "a6ee08169e634cb0bdfdd6a2166784c9",
            "76557c6eec714cb0b8645189ac5bf56e",
            "86ddb60ecd1d43c494dfebeebce69eb5",
            "0d6451dc813849f3899de768948c176c",
            "d6c887de754844a4b4e66f4875b8439e",
            "10e0a65b18ec42fb9f7843fbeca000db",
            "ccf1cf10e11d4e01ba45cd15ef070e18",
            "ba8ddc72a7d74bc9a4402324a3afb564",
            "ae3c943a02d94eeaab51c3b44eefc0d6",
            "e53e5e2fbe20430ebbf51df48261a2bb",
            "df03016413fa4511b355ed36c9d82065",
            "8c90eec508454e99ac1fba755fce0ccf",
            "2b7d1f6a8c1c427c83fc812b2dcc1b3f",
            "edf1afba4d1f4f458ae7eca82c5b265a",
            "8111451ce73b4abb89ed17cad30e54cb",
            "f9ec215a3c474e8c9ad47c733f15cb34",
            "0bb3498b8422456db2ab527d7de03bad",
            "d5480d517547473caa69a6f1e818d3c7",
            "bb8b4d9c37a44d6997f70aca87f515f6"
          ]
        }
      },
      "execution_count": null,
      "outputs": [
        {
          "output_type": "display_data",
          "data": {
            "text/plain": [
              "Map:   0%|          | 0/100 [00:00<?, ? examples/s]"
            ],
            "application/vnd.jupyter.widget-view+json": {
              "version_major": 2,
              "version_minor": 0,
              "model_id": "dd6d6550b09e4ddab4a7de2ae7154987"
            }
          },
          "metadata": {}
        },
        {
          "output_type": "display_data",
          "data": {
            "text/plain": [
              "Map:   0%|          | 0/100 [00:00<?, ? examples/s]"
            ],
            "application/vnd.jupyter.widget-view+json": {
              "version_major": 2,
              "version_minor": 0,
              "model_id": "ae3c943a02d94eeaab51c3b44eefc0d6"
            }
          },
          "metadata": {}
        }
      ],
      "id": "JXh-z_D-bj2t"
    },
    {
      "cell_type": "code",
      "source": [
        "train_dataset_tf"
      ],
      "metadata": {
        "papermill": {
          "duration": 0.021429,
          "end_time": "2023-07-22T16:18:52.034642",
          "exception": false,
          "start_time": "2023-07-22T16:18:52.013213",
          "status": "completed"
        },
        "tags": [],
        "execution": {
          "iopub.status.busy": "2023-08-10T13:19:58.080603Z",
          "iopub.execute_input": "2023-08-10T13:19:58.081023Z",
          "iopub.status.idle": "2023-08-10T13:19:58.088296Z",
          "shell.execute_reply.started": "2023-08-10T13:19:58.080990Z",
          "shell.execute_reply": "2023-08-10T13:19:58.087316Z"
        },
        "trusted": true,
        "colab": {
          "base_uri": "https://localhost:8080/"
        },
        "id": "vy8Y45PQyK7j",
        "outputId": "4ca0af12-a449-4639-e451-74f7a4eedd8e"
      },
      "execution_count": null,
      "outputs": [
        {
          "output_type": "execute_result",
          "data": {
            "text/plain": [
              "Dataset({\n",
              "    features: ['input_ids', 'attention_mask', 'labels'],\n",
              "    num_rows: 100\n",
              "})"
            ]
          },
          "metadata": {},
          "execution_count": 81
        }
      ],
      "id": "vy8Y45PQyK7j"
    },
    {
      "cell_type": "code",
      "source": [
        "seq2seq_data_collator = DataCollatorForSeq2Seq(tokenizer, model=model)"
      ],
      "metadata": {
        "id": "w1-L5vRPbzjC",
        "papermill": {
          "duration": 0.816307,
          "end_time": "2023-07-22T16:18:53.018638",
          "exception": false,
          "start_time": "2023-07-22T16:18:52.202331",
          "status": "completed"
        },
        "tags": [],
        "execution": {
          "iopub.status.busy": "2023-08-10T13:20:05.903962Z",
          "iopub.execute_input": "2023-08-10T13:20:05.904650Z",
          "iopub.status.idle": "2023-08-10T13:20:06.951139Z",
          "shell.execute_reply.started": "2023-08-10T13:20:05.904614Z",
          "shell.execute_reply": "2023-08-10T13:20:06.949982Z"
        },
        "trusted": true
      },
      "execution_count": null,
      "outputs": [],
      "id": "w1-L5vRPbzjC"
    },
    {
      "cell_type": "code",
      "source": [
        "notebook_login()"
      ],
      "metadata": {
        "colab": {
          "base_uri": "https://localhost:8080/",
          "height": 359,
          "referenced_widgets": [
            "c6a15d9394394e6daa6da5a866ef385c",
            "c99ae6140223458fa8ff7bc7c2d14bf4",
            "8a0b54468af643ea82fd09e9c84e5505",
            "96da7137d18c4a0fa0a418af81dd1201",
            "a9cc73246bb8418c870c885fb1c54075",
            "db5abccdadd24c7b86aa9a4e513c0295",
            "953271b621c941b898000aadf7990bc8",
            "3cc62463e62b4c4d8fb41de696c98143",
            "37f0933fe17d42f8a8f18e1da86e52ed",
            "c746055f36ca438284fd13e739cd32a2",
            "f192965f0b7d44f3be555ad15759323f",
            "7703c6cae4c34a5ea522febeb787b7e7",
            "3d5f97ac2b6f4d58b15eeeabe3354daa",
            "6bff076389574ab7b82e4194b83ce0d7",
            "72ef4c320c7d414e88b5fef8b855484d",
            "397e2b2e3c334b48b49055edbc714e89",
            "8c69667f87d841c88e583e7ed7571b41"
          ]
        },
        "id": "BCA7ILMV0kG4",
        "outputId": "8d203346-d741-4fa2-a8a2-65ba6aa8a0d3"
      },
      "id": "BCA7ILMV0kG4",
      "execution_count": null,
      "outputs": [
        {
          "output_type": "display_data",
          "data": {
            "text/plain": [
              "VBox(children=(HTML(value='<center> <img\\nsrc=https://huggingface.co/front/assets/huggingface_logo-noborder.sv…"
            ],
            "application/vnd.jupyter.widget-view+json": {
              "version_major": 2,
              "version_minor": 0,
              "model_id": "c6a15d9394394e6daa6da5a866ef385c"
            }
          },
          "metadata": {}
        }
      ]
    },
    {
      "cell_type": "code",
      "source": [
        "training_args = Seq2SeqTrainingArguments(output_dir='mbartTrans', num_train_epochs=2,\n",
        "                                  per_device_train_batch_size=1, per_device_eval_batch_size=1,\n",
        "                                evaluation_strategy='steps',save_strategy='no',eval_steps=2,logging_steps=10,\n",
        "                                  weight_decay=0.01, push_to_hub=False,\n",
        "                           learning_rate=2e-5,optim=\"adafactor\")"
      ],
      "metadata": {
        "id": "I_iwisdNb0zm",
        "papermill": {
          "duration": 0.198973,
          "end_time": "2023-07-22T16:18:53.230291",
          "exception": false,
          "start_time": "2023-07-22T16:18:53.031318",
          "status": "completed"
        },
        "tags": [],
        "execution": {
          "iopub.status.busy": "2023-08-10T13:20:21.918180Z",
          "iopub.execute_input": "2023-08-10T13:20:21.918535Z",
          "iopub.status.idle": "2023-08-10T13:20:22.107124Z",
          "shell.execute_reply.started": "2023-08-10T13:20:21.918507Z",
          "shell.execute_reply": "2023-08-10T13:20:22.106110Z"
        },
        "trusted": true
      },
      "execution_count": null,
      "outputs": [],
      "id": "I_iwisdNb0zm"
    },
    {
      "cell_type": "code",
      "source": [
        "gc.collect()"
      ],
      "metadata": {
        "id": "CjmKxc7hZ70N",
        "papermill": {
          "duration": 0.309299,
          "end_time": "2023-07-22T16:18:53.552118",
          "exception": false,
          "start_time": "2023-07-22T16:18:53.242819",
          "status": "completed"
        },
        "tags": [],
        "execution": {
          "iopub.status.busy": "2023-08-10T13:20:25.661432Z",
          "iopub.execute_input": "2023-08-10T13:20:25.661793Z",
          "iopub.status.idle": "2023-08-10T13:20:25.957015Z",
          "shell.execute_reply.started": "2023-08-10T13:20:25.661764Z",
          "shell.execute_reply": "2023-08-10T13:20:25.955450Z"
        },
        "trusted": true,
        "colab": {
          "base_uri": "https://localhost:8080/"
        },
        "outputId": "3b15ba5e-b13d-40cd-ae7e-315809e7e7b7"
      },
      "execution_count": null,
      "outputs": [
        {
          "output_type": "execute_result",
          "data": {
            "text/plain": [
              "38"
            ]
          },
          "metadata": {},
          "execution_count": 88
        }
      ],
      "id": "CjmKxc7hZ70N"
    },
    {
      "cell_type": "code",
      "source": [
        "trainer = Seq2SeqTrainer(model=model, args=training_args, tokenizer=tokenizer,\n",
        "                  data_collator=seq2seq_data_collator,\n",
        "                  train_dataset=train_dataset_tf,\n",
        "                        eval_dataset=val_dataset_tf)\n",
        "\n",
        "trainer.train()"
      ],
      "metadata": {
        "id": "OuevlhILb8-L",
        "papermill": {
          "duration": 11.964699,
          "end_time": "2023-07-22T16:19:05.565755",
          "exception": true,
          "start_time": "2023-07-22T16:18:53.601056",
          "status": "failed"
        },
        "tags": [],
        "execution": {
          "iopub.status.busy": "2023-08-10T13:20:32.280516Z",
          "iopub.execute_input": "2023-08-10T13:20:32.280885Z",
          "iopub.status.idle": "2023-08-10T16:43:27.141323Z",
          "shell.execute_reply.started": "2023-08-10T13:20:32.280856Z",
          "shell.execute_reply": "2023-08-10T16:43:27.140277Z"
        },
        "trusted": true,
        "colab": {
          "base_uri": "https://localhost:8080/",
          "height": 1000
        },
        "outputId": "0de24398-1d3e-4a77-deda-aa15d3f32e0a"
      },
      "execution_count": null,
      "outputs": [
        {
          "output_type": "display_data",
          "data": {
            "text/plain": [
              "<IPython.core.display.HTML object>"
            ],
            "text/html": [
              "\n",
              "    <div>\n",
              "      \n",
              "      <progress value='200' max='200' style='width:300px; height:20px; vertical-align: middle;'></progress>\n",
              "      [200/200 1:22:43, Epoch 2/2]\n",
              "    </div>\n",
              "    <table border=\"1\" class=\"dataframe\">\n",
              "  <thead>\n",
              " <tr style=\"text-align: left;\">\n",
              "      <th>Step</th>\n",
              "      <th>Training Loss</th>\n",
              "      <th>Validation Loss</th>\n",
              "    </tr>\n",
              "  </thead>\n",
              "  <tbody>\n",
              "    <tr>\n",
              "      <td>2</td>\n",
              "      <td>No log</td>\n",
              "      <td>11.812526</td>\n",
              "    </tr>\n",
              "    <tr>\n",
              "      <td>4</td>\n",
              "      <td>No log</td>\n",
              "      <td>11.337551</td>\n",
              "    </tr>\n",
              "    <tr>\n",
              "      <td>6</td>\n",
              "      <td>No log</td>\n",
              "      <td>11.202165</td>\n",
              "    </tr>\n",
              "    <tr>\n",
              "      <td>8</td>\n",
              "      <td>No log</td>\n",
              "      <td>10.638989</td>\n",
              "    </tr>\n",
              "    <tr>\n",
              "      <td>10</td>\n",
              "      <td>11.446800</td>\n",
              "      <td>10.156157</td>\n",
              "    </tr>\n",
              "    <tr>\n",
              "      <td>12</td>\n",
              "      <td>11.446800</td>\n",
              "      <td>9.736961</td>\n",
              "    </tr>\n",
              "    <tr>\n",
              "      <td>14</td>\n",
              "      <td>11.446800</td>\n",
              "      <td>9.355163</td>\n",
              "    </tr>\n",
              "    <tr>\n",
              "      <td>16</td>\n",
              "      <td>11.446800</td>\n",
              "      <td>9.095414</td>\n",
              "    </tr>\n",
              "    <tr>\n",
              "      <td>18</td>\n",
              "      <td>11.446800</td>\n",
              "      <td>8.759762</td>\n",
              "    </tr>\n",
              "    <tr>\n",
              "      <td>20</td>\n",
              "      <td>9.642100</td>\n",
              "      <td>8.482137</td>\n",
              "    </tr>\n",
              "    <tr>\n",
              "      <td>22</td>\n",
              "      <td>9.642100</td>\n",
              "      <td>8.233141</td>\n",
              "    </tr>\n",
              "    <tr>\n",
              "      <td>24</td>\n",
              "      <td>9.642100</td>\n",
              "      <td>8.022139</td>\n",
              "    </tr>\n",
              "    <tr>\n",
              "      <td>26</td>\n",
              "      <td>9.642100</td>\n",
              "      <td>7.835227</td>\n",
              "    </tr>\n",
              "    <tr>\n",
              "      <td>28</td>\n",
              "      <td>9.642100</td>\n",
              "      <td>7.585867</td>\n",
              "    </tr>\n",
              "    <tr>\n",
              "      <td>30</td>\n",
              "      <td>8.338600</td>\n",
              "      <td>7.361290</td>\n",
              "    </tr>\n",
              "    <tr>\n",
              "      <td>32</td>\n",
              "      <td>8.338600</td>\n",
              "      <td>7.170330</td>\n",
              "    </tr>\n",
              "    <tr>\n",
              "      <td>34</td>\n",
              "      <td>8.338600</td>\n",
              "      <td>6.975004</td>\n",
              "    </tr>\n",
              "    <tr>\n",
              "      <td>36</td>\n",
              "      <td>8.338600</td>\n",
              "      <td>6.828532</td>\n",
              "    </tr>\n",
              "    <tr>\n",
              "      <td>38</td>\n",
              "      <td>8.338600</td>\n",
              "      <td>6.662898</td>\n",
              "    </tr>\n",
              "    <tr>\n",
              "      <td>40</td>\n",
              "      <td>7.331100</td>\n",
              "      <td>6.475749</td>\n",
              "    </tr>\n",
              "    <tr>\n",
              "      <td>42</td>\n",
              "      <td>7.331100</td>\n",
              "      <td>6.215707</td>\n",
              "    </tr>\n",
              "    <tr>\n",
              "      <td>44</td>\n",
              "      <td>7.331100</td>\n",
              "      <td>6.036860</td>\n",
              "    </tr>\n",
              "    <tr>\n",
              "      <td>46</td>\n",
              "      <td>7.331100</td>\n",
              "      <td>5.846663</td>\n",
              "    </tr>\n",
              "    <tr>\n",
              "      <td>48</td>\n",
              "      <td>7.331100</td>\n",
              "      <td>5.652573</td>\n",
              "    </tr>\n",
              "    <tr>\n",
              "      <td>50</td>\n",
              "      <td>6.291600</td>\n",
              "      <td>5.492023</td>\n",
              "    </tr>\n",
              "    <tr>\n",
              "      <td>52</td>\n",
              "      <td>6.291600</td>\n",
              "      <td>5.340014</td>\n",
              "    </tr>\n",
              "    <tr>\n",
              "      <td>54</td>\n",
              "      <td>6.291600</td>\n",
              "      <td>5.176967</td>\n",
              "    </tr>\n",
              "    <tr>\n",
              "      <td>56</td>\n",
              "      <td>6.291600</td>\n",
              "      <td>5.032942</td>\n",
              "    </tr>\n",
              "    <tr>\n",
              "      <td>58</td>\n",
              "      <td>6.291600</td>\n",
              "      <td>4.834529</td>\n",
              "    </tr>\n",
              "    <tr>\n",
              "      <td>60</td>\n",
              "      <td>5.452000</td>\n",
              "      <td>4.687957</td>\n",
              "    </tr>\n",
              "    <tr>\n",
              "      <td>62</td>\n",
              "      <td>5.452000</td>\n",
              "      <td>4.528193</td>\n",
              "    </tr>\n",
              "    <tr>\n",
              "      <td>64</td>\n",
              "      <td>5.452000</td>\n",
              "      <td>4.332263</td>\n",
              "    </tr>\n",
              "    <tr>\n",
              "      <td>66</td>\n",
              "      <td>5.452000</td>\n",
              "      <td>4.189284</td>\n",
              "    </tr>\n",
              "    <tr>\n",
              "      <td>68</td>\n",
              "      <td>5.452000</td>\n",
              "      <td>4.026888</td>\n",
              "    </tr>\n",
              "    <tr>\n",
              "      <td>70</td>\n",
              "      <td>4.638200</td>\n",
              "      <td>3.926549</td>\n",
              "    </tr>\n",
              "    <tr>\n",
              "      <td>72</td>\n",
              "      <td>4.638200</td>\n",
              "      <td>3.752860</td>\n",
              "    </tr>\n",
              "    <tr>\n",
              "      <td>74</td>\n",
              "      <td>4.638200</td>\n",
              "      <td>3.604084</td>\n",
              "    </tr>\n",
              "    <tr>\n",
              "      <td>76</td>\n",
              "      <td>4.638200</td>\n",
              "      <td>3.437669</td>\n",
              "    </tr>\n",
              "    <tr>\n",
              "      <td>78</td>\n",
              "      <td>4.638200</td>\n",
              "      <td>3.292140</td>\n",
              "    </tr>\n",
              "    <tr>\n",
              "      <td>80</td>\n",
              "      <td>3.865200</td>\n",
              "      <td>3.163546</td>\n",
              "    </tr>\n",
              "    <tr>\n",
              "      <td>82</td>\n",
              "      <td>3.865200</td>\n",
              "      <td>3.026082</td>\n",
              "    </tr>\n",
              "    <tr>\n",
              "      <td>84</td>\n",
              "      <td>3.865200</td>\n",
              "      <td>2.899587</td>\n",
              "    </tr>\n",
              "    <tr>\n",
              "      <td>86</td>\n",
              "      <td>3.865200</td>\n",
              "      <td>2.782542</td>\n",
              "    </tr>\n",
              "    <tr>\n",
              "      <td>88</td>\n",
              "      <td>3.865200</td>\n",
              "      <td>2.646453</td>\n",
              "    </tr>\n",
              "    <tr>\n",
              "      <td>90</td>\n",
              "      <td>3.161700</td>\n",
              "      <td>2.537758</td>\n",
              "    </tr>\n",
              "    <tr>\n",
              "      <td>92</td>\n",
              "      <td>3.161700</td>\n",
              "      <td>2.429250</td>\n",
              "    </tr>\n",
              "    <tr>\n",
              "      <td>94</td>\n",
              "      <td>3.161700</td>\n",
              "      <td>2.321382</td>\n",
              "    </tr>\n",
              "    <tr>\n",
              "      <td>96</td>\n",
              "      <td>3.161700</td>\n",
              "      <td>2.246531</td>\n",
              "    </tr>\n",
              "    <tr>\n",
              "      <td>98</td>\n",
              "      <td>3.161700</td>\n",
              "      <td>2.109496</td>\n",
              "    </tr>\n",
              "    <tr>\n",
              "      <td>100</td>\n",
              "      <td>2.561600</td>\n",
              "      <td>2.002630</td>\n",
              "    </tr>\n",
              "    <tr>\n",
              "      <td>102</td>\n",
              "      <td>2.561600</td>\n",
              "      <td>1.906409</td>\n",
              "    </tr>\n",
              "    <tr>\n",
              "      <td>104</td>\n",
              "      <td>2.561600</td>\n",
              "      <td>1.808191</td>\n",
              "    </tr>\n",
              "    <tr>\n",
              "      <td>106</td>\n",
              "      <td>2.561600</td>\n",
              "      <td>1.711494</td>\n",
              "    </tr>\n",
              "    <tr>\n",
              "      <td>108</td>\n",
              "      <td>2.561600</td>\n",
              "      <td>1.623008</td>\n",
              "    </tr>\n",
              "    <tr>\n",
              "      <td>110</td>\n",
              "      <td>2.033200</td>\n",
              "      <td>1.539780</td>\n",
              "    </tr>\n",
              "    <tr>\n",
              "      <td>112</td>\n",
              "      <td>2.033200</td>\n",
              "      <td>1.470008</td>\n",
              "    </tr>\n",
              "    <tr>\n",
              "      <td>114</td>\n",
              "      <td>2.033200</td>\n",
              "      <td>1.401267</td>\n",
              "    </tr>\n",
              "    <tr>\n",
              "      <td>116</td>\n",
              "      <td>2.033200</td>\n",
              "      <td>1.332217</td>\n",
              "    </tr>\n",
              "    <tr>\n",
              "      <td>118</td>\n",
              "      <td>2.033200</td>\n",
              "      <td>1.270664</td>\n",
              "    </tr>\n",
              "    <tr>\n",
              "      <td>120</td>\n",
              "      <td>1.550600</td>\n",
              "      <td>1.209563</td>\n",
              "    </tr>\n",
              "    <tr>\n",
              "      <td>122</td>\n",
              "      <td>1.550600</td>\n",
              "      <td>1.146172</td>\n",
              "    </tr>\n",
              "    <tr>\n",
              "      <td>124</td>\n",
              "      <td>1.550600</td>\n",
              "      <td>1.096671</td>\n",
              "    </tr>\n",
              "    <tr>\n",
              "      <td>126</td>\n",
              "      <td>1.550600</td>\n",
              "      <td>1.042419</td>\n",
              "    </tr>\n",
              "    <tr>\n",
              "      <td>128</td>\n",
              "      <td>1.550600</td>\n",
              "      <td>0.996626</td>\n",
              "    </tr>\n",
              "    <tr>\n",
              "      <td>130</td>\n",
              "      <td>1.243900</td>\n",
              "      <td>0.941289</td>\n",
              "    </tr>\n",
              "    <tr>\n",
              "      <td>132</td>\n",
              "      <td>1.243900</td>\n",
              "      <td>0.900988</td>\n",
              "    </tr>\n",
              "    <tr>\n",
              "      <td>134</td>\n",
              "      <td>1.243900</td>\n",
              "      <td>0.861473</td>\n",
              "    </tr>\n",
              "    <tr>\n",
              "      <td>136</td>\n",
              "      <td>1.243900</td>\n",
              "      <td>0.821872</td>\n",
              "    </tr>\n",
              "    <tr>\n",
              "      <td>138</td>\n",
              "      <td>1.243900</td>\n",
              "      <td>0.787129</td>\n",
              "    </tr>\n",
              "    <tr>\n",
              "      <td>140</td>\n",
              "      <td>0.981700</td>\n",
              "      <td>0.754971</td>\n",
              "    </tr>\n",
              "    <tr>\n",
              "      <td>142</td>\n",
              "      <td>0.981700</td>\n",
              "      <td>0.722991</td>\n",
              "    </tr>\n",
              "    <tr>\n",
              "      <td>144</td>\n",
              "      <td>0.981700</td>\n",
              "      <td>0.696847</td>\n",
              "    </tr>\n",
              "    <tr>\n",
              "      <td>146</td>\n",
              "      <td>0.981700</td>\n",
              "      <td>0.668432</td>\n",
              "    </tr>\n",
              "    <tr>\n",
              "      <td>148</td>\n",
              "      <td>0.981700</td>\n",
              "      <td>0.645933</td>\n",
              "    </tr>\n",
              "    <tr>\n",
              "      <td>150</td>\n",
              "      <td>0.750600</td>\n",
              "      <td>0.623963</td>\n",
              "    </tr>\n",
              "    <tr>\n",
              "      <td>152</td>\n",
              "      <td>0.750600</td>\n",
              "      <td>0.602736</td>\n",
              "    </tr>\n",
              "    <tr>\n",
              "      <td>154</td>\n",
              "      <td>0.750600</td>\n",
              "      <td>0.583926</td>\n",
              "    </tr>\n",
              "    <tr>\n",
              "      <td>156</td>\n",
              "      <td>0.750600</td>\n",
              "      <td>0.569016</td>\n",
              "    </tr>\n",
              "    <tr>\n",
              "      <td>158</td>\n",
              "      <td>0.750600</td>\n",
              "      <td>0.549957</td>\n",
              "    </tr>\n",
              "    <tr>\n",
              "      <td>160</td>\n",
              "      <td>0.653300</td>\n",
              "      <td>0.534384</td>\n",
              "    </tr>\n",
              "    <tr>\n",
              "      <td>162</td>\n",
              "      <td>0.653300</td>\n",
              "      <td>0.520357</td>\n",
              "    </tr>\n",
              "    <tr>\n",
              "      <td>164</td>\n",
              "      <td>0.653300</td>\n",
              "      <td>0.507387</td>\n",
              "    </tr>\n",
              "    <tr>\n",
              "      <td>166</td>\n",
              "      <td>0.653300</td>\n",
              "      <td>0.495521</td>\n",
              "    </tr>\n",
              "    <tr>\n",
              "      <td>168</td>\n",
              "      <td>0.653300</td>\n",
              "      <td>0.483993</td>\n",
              "    </tr>\n",
              "    <tr>\n",
              "      <td>170</td>\n",
              "      <td>0.557700</td>\n",
              "      <td>0.474451</td>\n",
              "    </tr>\n",
              "    <tr>\n",
              "      <td>172</td>\n",
              "      <td>0.557700</td>\n",
              "      <td>0.466081</td>\n",
              "    </tr>\n",
              "    <tr>\n",
              "      <td>174</td>\n",
              "      <td>0.557700</td>\n",
              "      <td>0.458962</td>\n",
              "    </tr>\n",
              "    <tr>\n",
              "      <td>176</td>\n",
              "      <td>0.557700</td>\n",
              "      <td>0.449893</td>\n",
              "    </tr>\n",
              "    <tr>\n",
              "      <td>178</td>\n",
              "      <td>0.557700</td>\n",
              "      <td>0.443370</td>\n",
              "    </tr>\n",
              "    <tr>\n",
              "      <td>180</td>\n",
              "      <td>0.483700</td>\n",
              "      <td>0.437809</td>\n",
              "    </tr>\n",
              "    <tr>\n",
              "      <td>182</td>\n",
              "      <td>0.483700</td>\n",
              "      <td>0.431877</td>\n",
              "    </tr>\n",
              "    <tr>\n",
              "      <td>184</td>\n",
              "      <td>0.483700</td>\n",
              "      <td>0.426471</td>\n",
              "    </tr>\n",
              "    <tr>\n",
              "      <td>186</td>\n",
              "      <td>0.483700</td>\n",
              "      <td>0.422676</td>\n",
              "    </tr>\n",
              "    <tr>\n",
              "      <td>188</td>\n",
              "      <td>0.483700</td>\n",
              "      <td>0.418891</td>\n",
              "    </tr>\n",
              "    <tr>\n",
              "      <td>190</td>\n",
              "      <td>0.517400</td>\n",
              "      <td>0.415755</td>\n",
              "    </tr>\n",
              "    <tr>\n",
              "      <td>192</td>\n",
              "      <td>0.517400</td>\n",
              "      <td>0.413246</td>\n",
              "    </tr>\n",
              "    <tr>\n",
              "      <td>194</td>\n",
              "      <td>0.517400</td>\n",
              "      <td>0.411349</td>\n",
              "    </tr>\n",
              "    <tr>\n",
              "      <td>196</td>\n",
              "      <td>0.517400</td>\n",
              "      <td>0.409890</td>\n",
              "    </tr>\n",
              "    <tr>\n",
              "      <td>198</td>\n",
              "      <td>0.517400</td>\n",
              "      <td>0.408980</td>\n",
              "    </tr>\n",
              "    <tr>\n",
              "      <td>200</td>\n",
              "      <td>0.440200</td>\n",
              "      <td>0.408572</td>\n",
              "    </tr>\n",
              "  </tbody>\n",
              "</table><p>"
            ]
          },
          "metadata": {}
        },
        {
          "output_type": "execute_result",
          "data": {
            "text/plain": [
              "TrainOutput(global_step=200, training_loss=3.5970665788650513, metrics={'train_runtime': 4965.8012, 'train_samples_per_second': 0.04, 'train_steps_per_second': 0.04, 'total_flos': 433425953587200.0, 'train_loss': 3.5970665788650513, 'epoch': 2.0})"
            ]
          },
          "metadata": {},
          "execution_count": 89
        }
      ],
      "id": "OuevlhILb8-L"
    },
    {
      "cell_type": "code",
      "source": [
        "import matplotlib.pyplot as plt\n",
        "\n",
        "# Data\n",
        "steps = range(2, 201, 2)  # Steps from 2 to 200\n",
        "training_loss = [0,0,0,0,11.446800, 11.446800, 11.446800, 11.446800, 11.446800, 9.642100, 9.642100, 9.642100, 9.642100, 9.642100,\n",
        "                 8.338600, 8.338600, 8.338600, 8.338600, 8.338600, 7.331100, 7.331100, 7.331100, 7.331100, 7.331100,\n",
        "                 6.291600, 6.291600, 6.291600, 6.291600, 6.291600, 5.452000, 5.452000, 5.452000, 5.452000, 5.452000,\n",
        "                 4.638200, 4.638200, 4.638200, 4.638200, 4.638200, 3.865200, 3.865200, 3.865200, 3.865200, 3.865200,\n",
        "                 3.161700, 3.161700, 3.161700, 3.161700, 3.161700, 2.561600, 2.561600, 2.561600, 2.561600, 2.561600,\n",
        "                 2.033200, 2.033200, 2.033200, 2.033200, 2.033200, 1.550600, 1.550600, 1.550600, 1.550600, 1.550600,\n",
        "                 1.243900, 1.243900, 1.243900, 1.243900, 1.243900, 0.981700, 0.981700, 0.981700, 0.981700, 0.981700,\n",
        "                 0.750600, 0.750600, 0.750600, 0.750600, 0.750600, 0.653300, 0.653300, 0.653300, 0.653300, 0.653300,\n",
        "                 0.557700, 0.557700, 0.557700, 0.557700, 0.557700, 0.483700, 0.483700, 0.483700, 0.483700, 0.483700,\n",
        "                 0.517400, 0.517400, 0.517400, 0.517400, 0.517400, 0.440200]  # Training loss\n",
        "validation_loss = [11.812526, 11.337551, 11.202165, 10.638989, 10.156157, 9.736961, 9.355163, 9.095414, 8.759762, 8.482137,\n",
        "                   8.233141, 8.022139, 7.835227, 7.585867, 7.361290, 7.170330, 6.975004, 6.828532, 6.662898, 6.475749,\n",
        "                   6.215707, 6.036860, 5.846663, 5.652573, 5.492023, 5.340014, 5.176967, 5.032942, 4.834529, 4.687957,\n",
        "                   4.528193, 4.332263, 4.189284, 4.026888, 3.926549, 3.752860, 3.604084, 3.437669, 3.292140, 3.163546,\n",
        "                   3.026082, 2.899587, 2.782542, 2.646453, 2.537758, 2.429250, 2.321382, 2.246531, 2.109496, 2.002630,\n",
        "                   1.906409, 1.808191, 1.711494, 1.623008, 1.539780, 1.470008, 1.401267, 1.332217, 1.270664, 1.209563,\n",
        "                   1.146172, 1.096671, 1.042419, 0.996626, 0.941289, 0.900988, 0.861473, 0.821872, 0.787129, 0.754971,\n",
        "                   0.722991, 0.696847, 0.668432, 0.645933, 0.623963, 0.602736, 0.583926, 0.569016, 0.549957, 0.534384,\n",
        "                   0.520357, 0.507387, 0.495521, 0.483993, 0.474451, 0.466081, 0.458962, 0.449893, 0.443370, 0.437809,\n",
        "                   0.431877, 0.426471, 0.422676, 0.418891, 0.415755, 0.413246, 0.411349, 0.409890, 0.408980, 0.408572]  # Validation loss\n",
        "\n",
        "# Define the steps array to match the length of the training_loss array\n",
        "steps = range(2, 201, 2)  # Steps from 2 to 200\n",
        "steps = list(steps)[:len(training_loss)]\n",
        "\n",
        "# Plot\n",
        "plt.figure(figsize=(10, 6))\n",
        "plt.plot(steps, training_loss, label='Training Loss', color='blue')\n",
        "plt.plot(steps, validation_loss, label='Validation Loss', color='orange')\n",
        "plt.xlabel('Step')\n",
        "plt.ylabel('Loss')\n",
        "plt.title('Training and Validation Loss')\n",
        "plt.legend()\n",
        "plt.grid(True)\n",
        "plt.show()\n",
        "\n"
      ],
      "metadata": {
        "colab": {
          "base_uri": "https://localhost:8080/",
          "height": 564
        },
        "id": "1E7Xgy2mxxpG",
        "outputId": "61be82e5-bf3d-425e-a2c8-b39eb7e4d6bc"
      },
      "id": "1E7Xgy2mxxpG",
      "execution_count": null,
      "outputs": [
        {
          "output_type": "display_data",
          "data": {
            "text/plain": [
              "<Figure size 1000x600 with 1 Axes>"
            ],
            "image/png": "[encoded data removed]"
          },
          "metadata": {}
        }
      ]
    },
    {
      "cell_type": "code",
      "source": [
        "trainer.save_model(\"mbartfortranslation5000\")"
      ],
      "metadata": {
        "id": "-qngqmmPEj3E",
        "papermill": {
          "duration": null,
          "end_time": null,
          "exception": null,
          "start_time": null,
          "status": "pending"
        },
        "tags": [],
        "execution": {
          "iopub.status.busy": "2023-08-10T16:43:29.273767Z",
          "iopub.execute_input": "2023-08-10T16:43:29.274235Z",
          "iopub.status.idle": "2023-08-10T16:43:36.000902Z",
          "shell.execute_reply.started": "2023-08-10T16:43:29.274198Z",
          "shell.execute_reply": "2023-08-10T16:43:35.999735Z"
        },
        "trusted": true,
        "colab": {
          "base_uri": "https://localhost:8080/"
        },
        "outputId": "aee7da3e-f5d3-4496-b086-6abfcdd69bc9"
      },
      "execution_count": null,
      "outputs": [
        {
          "output_type": "stream",
          "name": "stderr",
          "text": [
            "Some non-default generation parameters are set in the model config. These should go into a GenerationConfig file (https://huggingface.co/docs/transformers/generation_strategies#save-a-custom-decoding-strategy-with-your-model) instead. This warning will be raised to an exception in v4.41.\n",
            "Non-default generation parameters: {'max_length': 200, 'early_stopping': True, 'num_beams': 5, 'forced_eos_token_id': 2}\n"
          ]
        }
      ],
      "id": "-qngqmmPEj3E"
    },
    {
      "cell_type": "code",
      "source": [
        "shutil.make_archive('mbartfortranslation', 'zip', '/content/mbartfortranslation5000')"
      ],
      "metadata": {
        "papermill": {
          "duration": null,
          "end_time": null,
          "exception": null,
          "start_time": null,
          "status": "pending"
        },
        "tags": [],
        "execution": {
          "iopub.status.busy": "2023-08-10T16:43:36.006680Z",
          "iopub.execute_input": "2023-08-10T16:43:36.009480Z",
          "iopub.status.idle": "2023-08-10T16:45:59.905166Z",
          "shell.execute_reply.started": "2023-08-10T16:43:36.009441Z",
          "shell.execute_reply": "2023-08-10T16:45:59.903990Z"
        },
        "trusted": true,
        "id": "ymUyIKyqyK7j",
        "colab": {
          "base_uri": "https://localhost:8080/",
          "height": 35
        },
        "outputId": "8089aaf0-e3f8-4f4b-8c4d-8201bd503789"
      },
      "execution_count": null,
      "outputs": [
        {
          "output_type": "execute_result",
          "data": {
            "text/plain": [
              "'/content/mbartfortranslation.zip'"
            ],
            "application/vnd.google.colaboratory.intrinsic+json": {
              "type": "string"
            }
          },
          "metadata": {},
          "execution_count": 91
        }
      ],
      "id": "ymUyIKyqyK7j"
    },
    {
      "cell_type": "markdown",
      "source": [
        "> # **Testing the model on custom prompts**"
      ],
      "metadata": {
        "id": "w53QpWmLyK7j"
      },
      "id": "w53QpWmLyK7j"
    },
    {
      "cell_type": "markdown",
      "source": [
        "Note: Sure, before we proceed with restarting and clearing the cell output, let's save the notebook to ensure that none of your work is lost. Once saved, we'll execute the restart and clear cell output command to release the GPU memory."
      ],
      "metadata": {
        "id": "vA5o25rpyK7j"
      },
      "id": "vA5o25rpyK7j"
    },
    {
      "cell_type": "code",
      "source": [
        "model_ckpt = \"/content/mbartfortranslation5000\"\n",
        "tokenizer = AutoTokenizer.from_pretrained(model_ckpt)\n",
        "model = AutoModelForCausalLM.from_pretrained(\"/content/mbartfortranslation5000\").to('cuda:0').half()"
      ],
      "metadata": {
        "papermill": {
          "duration": null,
          "end_time": null,
          "exception": null,
          "start_time": null,
          "status": "pending"
        },
        "tags": [],
        "execution": {
          "iopub.status.busy": "2023-07-27T10:50:39.565139Z",
          "iopub.execute_input": "2023-07-27T10:50:39.565861Z",
          "iopub.status.idle": "2023-07-27T10:50:55.242916Z",
          "shell.execute_reply.started": "2023-07-27T10:50:39.565829Z",
          "shell.execute_reply": "2023-07-27T10:50:55.241788Z"
        },
        "trusted": true,
        "id": "TVlGzPVFyK7k",
        "colab": {
          "base_uri": "https://localhost:8080/"
        },
        "outputId": "fb538f9d-d2bb-4f6a-a60d-2a4d11ac6d86"
      },
      "execution_count": null,
      "outputs": [
        {
          "output_type": "stream",
          "name": "stderr",
          "text": [
            "Some weights of MBartForCausalLM were not initialized from the model checkpoint at /content/mbartfortranslation5000 and are newly initialized: ['lm_head.weight', 'model.decoder.embed_tokens.weight']\n",
            "You should probably TRAIN this model on a down-stream task to be able to use it for predictions and inference.\n"
          ]
        }
      ],
      "id": "TVlGzPVFyK7k"
    },
    {
      "cell_type": "code",
      "source": [
        "prompt1='Please Translate \"How are you.\" to urdu.'\n",
        "prompt1"
      ],
      "metadata": {
        "papermill": {
          "duration": null,
          "end_time": null,
          "exception": null,
          "start_time": null,
          "status": "pending"
        },
        "tags": [],
        "execution": {
          "iopub.status.busy": "2023-07-27T11:07:19.713216Z",
          "iopub.execute_input": "2023-07-27T11:07:19.713627Z",
          "iopub.status.idle": "2023-07-27T11:07:19.721752Z",
          "shell.execute_reply.started": "2023-07-27T11:07:19.713598Z",
          "shell.execute_reply": "2023-07-27T11:07:19.720753Z"
        },
        "trusted": true,
        "id": "m5mUBBkwyK7k",
        "colab": {
          "base_uri": "https://localhost:8080/",
          "height": 35
        },
        "outputId": "b70e3454-4af9-4b34-e660-47edd11758b3"
      },
      "execution_count": null,
      "outputs": [
        {
          "output_type": "execute_result",
          "data": {
            "text/plain": [
              "'Please Translate \"How are you.\" to urdu.'"
            ],
            "application/vnd.google.colaboratory.intrinsic+json": {
              "type": "string"
            }
          },
          "metadata": {},
          "execution_count": 179
        }
      ],
      "id": "m5mUBBkwyK7k"
    },
    {
      "cell_type": "code",
      "source": [
        "generator = pipeline('text2text-generation', model=model, tokenizer=tokenizer,forced_bos_token_id = tokenizer.lang_code_to_id [\"ur_PK\"],device='cuda:0',do_sample=False)"
      ],
      "metadata": {
        "papermill": {
          "duration": null,
          "end_time": null,
          "exception": null,
          "start_time": null,
          "status": "pending"
        },
        "tags": [],
        "execution": {
          "iopub.status.busy": "2023-07-27T11:07:20.871603Z",
          "iopub.execute_input": "2023-07-27T11:07:20.871913Z",
          "iopub.status.idle": "2023-07-27T11:08:50.909381Z",
          "shell.execute_reply.started": "2023-07-27T11:07:20.871887Z",
          "shell.execute_reply": "2023-07-27T11:08:50.908352Z"
        },
        "trusted": true,
        "id": "Ohf4LfOUyK7k",
        "colab": {
          "base_uri": "https://localhost:8080/"
        },
        "outputId": "80b3504a-fa81-419e-9b13-bcff633d62d2"
      },
      "execution_count": null,
      "outputs": [
        {
          "output_type": "stream",
          "name": "stderr",
          "text": [
            "The model 'MBartForCausalLM' is not supported for text2text-generation. Supported models are ['BartForConditionalGeneration', 'BigBirdPegasusForConditionalGeneration', 'BlenderbotForConditionalGeneration', 'BlenderbotSmallForConditionalGeneration', 'EncoderDecoderModel', 'FSMTForConditionalGeneration', 'GPTSanJapaneseForConditionalGeneration', 'LEDForConditionalGeneration', 'LongT5ForConditionalGeneration', 'M2M100ForConditionalGeneration', 'MarianMTModel', 'MBartForConditionalGeneration', 'MT5ForConditionalGeneration', 'MvpForConditionalGeneration', 'NllbMoeForConditionalGeneration', 'PegasusForConditionalGeneration', 'PegasusXForConditionalGeneration', 'PLBartForConditionalGeneration', 'ProphetNetForConditionalGeneration', 'SeamlessM4TForTextToText', 'SeamlessM4Tv2ForTextToText', 'SwitchTransformersForConditionalGeneration', 'T5ForConditionalGeneration', 'UMT5ForConditionalGeneration', 'XLMProphetNetForConditionalGeneration'].\n"
          ]
        }
      ],
      "id": "Ohf4LfOUyK7k"
    },
    {
      "cell_type": "code",
      "source": [
        "result = generator(prompt1, max_length=16)"
      ],
      "metadata": {
        "id": "fs47F9SLyK7k"
      },
      "execution_count": null,
      "outputs": [],
      "id": "fs47F9SLyK7k"
    },
    {
      "cell_type": "code",
      "source": [
        "result"
      ],
      "metadata": {
        "papermill": {
          "duration": null,
          "end_time": null,
          "exception": null,
          "start_time": null,
          "status": "pending"
        },
        "tags": [],
        "execution": {
          "iopub.status.busy": "2023-07-27T11:08:50.911614Z",
          "iopub.execute_input": "2023-07-27T11:08:50.914502Z",
          "iopub.status.idle": "2023-07-27T11:08:50.927038Z",
          "shell.execute_reply.started": "2023-07-27T11:08:50.914464Z",
          "shell.execute_reply": "2023-07-27T11:08:50.926024Z"
        },
        "trusted": true,
        "id": "9ReImTu3yK7k",
        "colab": {
          "base_uri": "https://localhost:8080/"
        },
        "outputId": "490836be-7914-430b-e134-73b32e66547b"
      },
      "execution_count": null,
      "outputs": [
        {
          "output_type": "execute_result",
          "data": {
            "text/plain": [
              "[{'generated_text': 'Please Translate \"How are you.\" to urdu. diskuse тижні'}]"
            ]
          },
          "metadata": {},
          "execution_count": 186
        }
      ],
      "id": "9ReImTu3yK7k"
    }
  ]
}